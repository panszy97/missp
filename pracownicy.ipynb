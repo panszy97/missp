{
  "nbformat": 4,
  "nbformat_minor": 0,
  "metadata": {
    "colab": {
      "name": "sklep.ipynb",
      "provenance": [],
      "collapsed_sections": [],
      "toc_visible": true
    },
    "kernelspec": {
      "display_name": "Python 3",
      "name": "python3"
    }
  },
  "cells": [
    {
      "cell_type": "markdown",
      "metadata": {
        "id": "yiTWumvB0kbG"
      },
      "source": [
        "###**Cel ćwiczenia**\n",
        "Celem świczenia jest rozwiązanie problemu dotyczącego ułożeniem harmonogramu pracy sklepu. Do pracy w sklepie mamy 6 ochotników, jednak każda z tych osób posiada ograniczenia dotyczące dostępności. Każdy z pracowników oczekuje innej stawiki wynagrodzenia. Pojedynczy pracownik nie może pracować więcej niż 3 razy w tygodniu. ZApotrzebowanie na ilość pracowników jest różne w różnych dniach tygodnia. Wszystkie ograniczenia przedstawia poniższa tabela:\n",
        "\n",
        "|  osoba  |  dostępność | płaca |\n",
        "|:-------:|:-----------:|:-----:|\n",
        "|  Ania   | każdy dzień |  100  |\n",
        "| Stefan  |     pon     |   50  |\n",
        "|  Hektor |  pon,wt,śr  |   60  |\n",
        "|   Olaf  | każdy dzień |   40  |\n",
        "|  Lidia  |    czw,pt   |  110  |\n",
        "|  Piotr  |  pon,wt,śr  |   70  |\n",
        "\n",
        "Zapotrzebowanie na pracowników:\n",
        "\n",
        "|     dzień    | zapotrzebowanie |\n",
        "|:------------:|:---------------:|\n",
        "| poniedziałek |        2        |\n",
        "|    wtorek    |        1        |\n",
        "|     środa    |        1        |\n",
        "|   czwartek   |        1        |\n",
        "|    piątek    |        3        |\n",
        "\n",
        "Rozwiązaniem mogą być wartości binarne 0 i 1, czyli pracownik może przyjść danego dnia lub nie. CZyli suma dni w jakie pracuje pracownik nie może być większa niż 3. Dzięki takiemu zapisowi suma zmiennych określających dni w których pracownik jest niedostęnyy musi wynosić 0. Celem zadania jest przygotowanie harmonogramu, tak abby każdego dnia była odpowiednia ilość osób, a koszt działalności tego sklepu minimalny.\n",
        "\n"
      ]
    },
    {
      "cell_type": "code",
      "metadata": {
        "id": "0WUbd-RRjkZv",
        "colab": {
          "base_uri": "https://localhost:8080/"
        },
        "outputId": "4fe51777-0b14-4869-a0b2-1c659bcde1ee"
      },
      "source": [
        "!pip install pulp\n",
        "!conda install -c conda-forge pulp"
      ],
      "execution_count": 1,
      "outputs": [
        {
          "output_type": "stream",
          "text": [
            "Collecting pulp\n",
            "\u001b[?25l  Downloading https://files.pythonhosted.org/packages/89/0c/6d80f5f81a92d1733cc5ca180491b8a3cd5839e335627a0046c81b7d3d3d/PuLP-2.3.1-py3-none-any.whl (40.6MB)\n",
            "\u001b[K     |████████████████████████████████| 40.6MB 104kB/s \n",
            "\u001b[?25hCollecting amply>=0.1.2\n",
            "  Downloading https://files.pythonhosted.org/packages/f3/c5/dfa09dd2595a2ab2ab4e6fa7bebef9565812722e1980d04b0edce5032066/amply-0.1.4-py3-none-any.whl\n",
            "Requirement already satisfied: docutils>=0.3 in /usr/local/lib/python3.6/dist-packages (from amply>=0.1.2->pulp) (0.16)\n",
            "Requirement already satisfied: pyparsing in /usr/local/lib/python3.6/dist-packages (from amply>=0.1.2->pulp) (2.4.7)\n",
            "Installing collected packages: amply, pulp\n",
            "Successfully installed amply-0.1.4 pulp-2.3.1\n",
            "/bin/bash: conda: command not found\n"
          ],
          "name": "stdout"
        }
      ]
    },
    {
      "cell_type": "code",
      "metadata": {
        "id": "sin9E-dIjsGw",
        "colab": {
          "base_uri": "https://localhost:8080/"
        },
        "outputId": "d4b6bdf7-0fb4-4329-af95-dea76ae08cf9"
      },
      "source": [
        "import pulp\n",
        "\n",
        "print(pulp.__version__)"
      ],
      "execution_count": 2,
      "outputs": [
        {
          "output_type": "stream",
          "text": [
            "2.3.1\n"
          ],
          "name": "stdout"
        }
      ]
    },
    {
      "cell_type": "code",
      "metadata": {
        "id": "RfvEpPi9jujG"
      },
      "source": [
        "from pulp import *"
      ],
      "execution_count": 3,
      "outputs": []
    },
    {
      "cell_type": "code",
      "metadata": {
        "id": "3slJt3Gejv8X",
        "colab": {
          "base_uri": "https://localhost:8080/"
        },
        "outputId": "467697d3-5680-4cfa-dbab-c14e865196ac"
      },
      "source": [
        "prob = LpProblem(\"Pracownicy\",LpMinimize) #definicja problemu, minimalizacja kosztów działania sklepu\n",
        "Ap=LpVariable(\"Ania_pon\",0,1, LpInteger) #definiowanie zmiennych decyzyjnych odpowiadających wszystkim dostępnym osobom oraz wszystkich dni roboczych\n",
        "Aw=LpVariable(\"Ania_wt\", 0,1, LpInteger) \n",
        "As=LpVariable(\"Ania_śr\", 0,1, LpInteger)\n",
        "Ac=LpVariable(\"Ania_czw\", 0,1, LpInteger)\n",
        "Api=LpVariable(\"Ania_pi\", 0,1, LpInteger)\n",
        "Sp=LpVariable(\"Stefan_pon\", 0,1, LpInteger)\n",
        "Sw=LpVariable(\"Stefan_wt\", 0,1, LpInteger)\n",
        "Ss=LpVariable(\"Stefan_śr\",0,1, LpInteger)\n",
        "Sc=LpVariable(\"Stefan_czw\", 0,1, LpInteger)\n",
        "Spi=LpVariable(\"Stefan_pi\", 0,1, LpInteger)\n",
        "Hp=LpVariable(\"Hektor_pon\", 0,1, LpInteger)\n",
        "Hw=LpVariable(\"Hektor_wt\", 0,1, LpInteger)\n",
        "Hs=LpVariable(\"Hektor_śr\", 0,1, LpInteger)\n",
        "Hc=LpVariable(\"Hektor_czw\", 0,1, LpInteger)\n",
        "Hpi=LpVariable(\"Hektor_pi\", 0,1, LpInteger)\n",
        "Op=LpVariable(\"Olaf_pon\", 0,1, LpInteger)\n",
        "Ow=LpVariable(\"Olaf_wt\", 0,1, LpInteger)\n",
        "Os=LpVariable(\"Olaf_śr\", 0,1, LpInteger)\n",
        "Oc=LpVariable(\"Olaf_czw\", 0,1, LpInteger)\n",
        "Opi=LpVariable(\"Olaf_pi\", 0,1, LpInteger)\n",
        "Lp=LpVariable(\"Lidia_pon\", 0,1, LpInteger)\n",
        "Lw=LpVariable(\"Lidia_wt\", 0,1, LpInteger)\n",
        "Ls=LpVariable(\"Lidia_śr\", 0,1, LpInteger)\n",
        "Lc=LpVariable(\"Lidia_czw\", 0,1, LpInteger)\n",
        "Lpi=LpVariable(\"Lidai_pi\", 0,1, LpInteger)\n",
        "Pp=LpVariable(\"Piotr_pon\", 0,1, LpInteger)\n",
        "Pw=LpVariable(\"Piotr_wt\", 0,1, LpInteger)\n",
        "Ps=LpVariable(\"Piotr_śr\", 0,1, LpInteger)\n",
        "Pc=LpVariable(\"Piotr_czw\", 0,1, LpInteger)\n",
        "Ppi=LpVariable(\"Piotr_pi\", 0,1, LpInteger)\n",
        "\n",
        "prob += (Ap+Aw+As+Ac+Api)*100+(Sp+Sw+Ss+Sc+Spi)*50+ (Hp+Hw+Hs+Hc+Hpi)*60+(Op+Ow+Os+Oc+Opi)*40+(Lp+Lw+Ls+Lc+Lpi)*110+(Pp+Pw+Ps+Pc+Ppi)*70, \"koszt\" #obliczenie kosztu działania sklepu\n",
        "prob += (Ap+Aw+As+Ac+Api) <= 3,  \"ograniczenia ilości dni max 3 dni na jednego pracownika\" #Ania\n",
        "prob += (Sp+Sw+Ss+Sc+Spi) <= 3, \"1\" #Stefan\n",
        "prob += (Hp+Hw+Hs+Hc+Hpi) <= 3, \"2\" #Hektor\n",
        "prob += (Op+Ow+Os+Oc+Opi) <= 3, \"3\" #Olaf\n",
        "prob += (Lp+Lw+Ls+Lc+Lpi) <= 3, \"4\" #Lidia\n",
        "prob +=  (Pp+Pw+Ps+Pc+Ppi) <= 3, \"5\" #Piotr\n",
        "prob += (Sw+Ss+Sc+Spi) == 0, \"ograniczenia wynikające z dostępności pracowników (w jakie dni nie mogą pracować)\" #Stefan\n",
        "prob += (Hc+Hpi) == 0, \"11\" #Hektor\n",
        "prob += (Lp+Lw+Ls) == 0, \"12\" #Lidia\n",
        "prob += (Pc+Ppi) == 0, \"13\" #Piotr\n",
        "prob += (Ap+Sp+Hp+Op+Lp+Pp) ==2,   \"ilość pracowników potrzebnych na dany dzień\"\n",
        "prob += (Aw+Sw+Hw+Ow+Lw+Pw) == 1, \"14\" #wtorek\n",
        "prob += (As+Ss+Hs+Os+Ls+Ps) == 1, \"25\" #środa\n",
        "prob += (Ac+Sc+Hc+Oc+Lc+Pc) == 1, \"36\" #czwartek\n",
        "prob += (Api+Spi+Hpi+Opi+Lpi+Ppi) ==3, \"47\" #piątek\n",
        "prob.writeLP(\"Pracownicy.lp\")\n",
        "prob.solve()\n",
        "print(\"Status:\", LpStatus[prob.status])\n",
        "for v in prob.variables():\n",
        "    print(v.name, \"=\", v.varValue)\n",
        "print(\"Minimalny koszt działania sklepu =\", value(prob.objective))"
      ],
      "execution_count": 4,
      "outputs": [
        {
          "output_type": "stream",
          "text": [
            "Status: Optimal\n",
            "Ania_czw = 0.0\n",
            "Ania_pi = 1.0\n",
            "Ania_pon = 0.0\n",
            "Ania_wt = 0.0\n",
            "Ania_śr = 0.0\n",
            "Hektor_czw = 0.0\n",
            "Hektor_pi = 0.0\n",
            "Hektor_pon = 1.0\n",
            "Hektor_wt = 1.0\n",
            "Hektor_śr = 0.0\n",
            "Lidai_pi = 1.0\n",
            "Lidia_czw = 0.0\n",
            "Lidia_pon = 0.0\n",
            "Lidia_wt = 0.0\n",
            "Lidia_śr = 0.0\n",
            "Olaf_czw = 1.0\n",
            "Olaf_pi = 1.0\n",
            "Olaf_pon = 0.0\n",
            "Olaf_wt = 0.0\n",
            "Olaf_śr = 1.0\n",
            "Piotr_czw = 0.0\n",
            "Piotr_pi = 0.0\n",
            "Piotr_pon = 0.0\n",
            "Piotr_wt = 0.0\n",
            "Piotr_śr = 0.0\n",
            "Stefan_czw = 0.0\n",
            "Stefan_pi = 0.0\n",
            "Stefan_pon = 1.0\n",
            "Stefan_wt = 0.0\n",
            "Stefan_śr = 0.0\n",
            "Minimalny koszt działania sklepu = 500.0\n"
          ],
          "name": "stdout"
        }
      ]
    },
    {
      "cell_type": "markdown",
      "metadata": {
        "id": "CscpFe844B32"
      },
      "source": [
        "Po rozwiązaniu problemu otrzymaliśmy rozpiskę jaki pracownik musi przyjść do pracy w konkretny dzień. Minimalny koszt działalności sklepu wyniósł 500zł. Przypisywanie zmiennym decyzyjnym wartości 0 lub 1 znacznie ułatwia zapisanie warunków oraz ograniczeń zawartych w zadaniu."
      ]
    }
  ]
}