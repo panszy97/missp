{
  "nbformat": 4,
  "nbformat_minor": 0,
  "metadata": {
    "colab": {
      "name": "instalacja_pierwsze_cwiczenia_z_Pulp (1).ipynb",
      "provenance": [],
      "collapsed_sections": []
    },
    "kernelspec": {
      "name": "python3",
      "display_name": "Python 3"
    }
  },
  "cells": [
    {
      "cell_type": "code",
      "metadata": {
        "id": "BjX-mj9e8D5a",
        "colab": {
          "base_uri": "https://localhost:8080/"
        },
        "outputId": "7370f870-7288-4096-d47c-03eb8d362ec1"
      },
      "source": [
        "!pip install pulp\n",
        "\n",
        "#!sudo apt-get install coinor-cbc glpk-utils coinor-clp\n",
        "!conda install -c conda-forge pulp"
      ],
      "execution_count": 4,
      "outputs": [
        {
          "output_type": "stream",
          "text": [
            "Collecting pulp\n",
            "\u001b[?25l  Downloading https://files.pythonhosted.org/packages/89/0c/6d80f5f81a92d1733cc5ca180491b8a3cd5839e335627a0046c81b7d3d3d/PuLP-2.3.1-py3-none-any.whl (40.6MB)\n",
            "\u001b[K     |████████████████████████████████| 40.6MB 98kB/s \n",
            "\u001b[?25hCollecting amply>=0.1.2\n",
            "  Downloading https://files.pythonhosted.org/packages/f3/c5/dfa09dd2595a2ab2ab4e6fa7bebef9565812722e1980d04b0edce5032066/amply-0.1.4-py3-none-any.whl\n",
            "Requirement already satisfied: pyparsing in /usr/local/lib/python3.6/dist-packages (from amply>=0.1.2->pulp) (2.4.7)\n",
            "Requirement already satisfied: docutils>=0.3 in /usr/local/lib/python3.6/dist-packages (from amply>=0.1.2->pulp) (0.16)\n",
            "Installing collected packages: amply, pulp\n",
            "Successfully installed amply-0.1.4 pulp-2.3.1\n",
            "/bin/bash: conda: command not found\n"
          ],
          "name": "stdout"
        }
      ]
    },
    {
      "cell_type": "code",
      "metadata": {
        "id": "HMGiufp89W-9",
        "colab": {
          "base_uri": "https://localhost:8080/",
          "height": 34
        },
        "outputId": "b600c26b-9a82-4371-8865-9e1639d188c8"
      },
      "source": [
        "### kod sprawdza czy instalacja się udała\n",
        "import pulp\n",
        "\n",
        "print(pulp.__version__)"
      ],
      "execution_count": null,
      "outputs": [
        {
          "output_type": "stream",
          "text": [
            "2.3.1\n"
          ],
          "name": "stdout"
        }
      ]
    },
    {
      "cell_type": "markdown",
      "metadata": {
        "id": "JHP3Y3Yh-stH"
      },
      "source": [
        "# Zadania:\n",
        "\n",
        "1. przeczytaj materiały dotyczące pulp ze strony internetowej https://coin-or.github.io/pulp/main/index.html oraz przejdź przez blending problem (przepisz do swojego notebooka)\n",
        "\n",
        "2. w blending problem dodaj zmienną decyzyjną. Stwórz zmienną która pojawi się w końcowym składzie produktu (tj. wartość zmiennej będzie miała niezerową postać)\n",
        "\n",
        "3. Dodaj ograniczenie co do zawartości witaminy B \n",
        "\n",
        "Zawartość:\n",
        "\n",
        "| Nazwa      | zawartość ug/100g |\n",
        "|------------|-------------------|\n",
        "| chicken    | 0.3               |\n",
        "| beef       | 2.6               |\n",
        "| mutton     | 2.6               |\n",
        "| rice       | 0                 |\n",
        "| wheat bran | 0                 |\n",
        "| gel        | 0                 |\n",
        "| sardines   | 8.9               |\n",
        "\n",
        "Kot ma zjeść minimum 0.24 ug na kilogram masy więc około\n",
        "0.8 ug dziennie\n",
        "\n",
        "4. Na końcu ma pojawiać się zdanie podsumowujące wynik, w stylu:\n",
        "Końcowy produkt będzie kosztować {}, będzie miał w składzie {nazwa}: {} %, {nastepna nazwa}: {} %\n",
        "\n",
        "Takie zdanie można skleić z części generowanych automatycznie:\n",
        "\n"
      ]
    },
    {
      "cell_type": "code",
      "metadata": {
        "id": "BhWf9b8IMJZ7",
        "colab": {
          "base_uri": "https://localhost:8080/",
          "height": 53
        },
        "outputId": "c4e437d7-32da-4e82-b320-cbbfe1a50941"
      },
      "source": [
        "sklejone_produkt_cena = [\":\".join((produkt, str(cena))) for produkt,cena in zip([\"jabłko\",\"banan\"],[5,10])]\n",
        "print(sklejone_produkt_cena)\n",
        "sklejona_calosc = \", \".join(sklejone_produkt_cena)\n",
        "\n",
        "print(sklejona_calosc)"
      ],
      "execution_count": null,
      "outputs": [
        {
          "output_type": "stream",
          "text": [
            "['jabłko:5', 'banan:10']\n",
            "jabłko:5, banan:10\n"
          ],
          "name": "stdout"
        }
      ]
    },
    {
      "cell_type": "markdown",
      "metadata": {
        "id": "68W7XSFUrsjF"
      },
      "source": [
        "Celem zadanie zrealizowanego podczas zajęć było dobranie odpowiedniego składu karmy dla kota, tak aby zminimalizować koszt produkcji, a także zapewnienie odpowiedzniej ilości wymaganych wartości odżywczych. Zawartość składników odżywczych w poszczególnych produktach zostały przedstawione w tabeli:\n",
        "\n",
        "\n",
        "| Nazwa      | vitamin b ug/100g | protein (g per g products) | fat | fibre | salt |\n",
        "|------------|-------------------|----------------------------|-----|-------|------|\n",
        "| chicken    | 0.3               | 0.1| 0.08| 0.001| 0.002|\n",
        "| beef       | 2.6               | 0.2| 0.1| 0.005| 0.005|\n",
        "| mutton     | 2.6               | 0.15| 0.11| 0.003| 0.007|\n",
        "| rice       | 0                 | 0.0| 0.01| 0,1| 0.002|\n",
        "| wheat bran | 0                 | 0.04| 0.01| 0.15| 0.008|\n",
        "| gel        | 0                 | 0.0| 0.0| 0.0| 0.0|\n",
        "| sardines   | 8.9               | 0.025| 0.011| 0.0| 0.005|\n",
        "| green peas | 0.15              | 0.005| 0.004| 0.06| 0.0045|\n",
        "\n",
        "Do składników znajdujących się w opisie zadania zostały dodane sardynki oraz zielony groszek, a wartości składników odżywczych zostały znalezione w internecie. Znana jes także cena poszczególnych produktów. W gotowym produkcie ma znajdować się 8g białka, 6g tłuszczu, 2g błonnika oraaz 0,4g soli, oraz 0,8ug witaminy B."
      ]
    },
    {
      "cell_type": "code",
      "metadata": {
        "id": "Se_t7o8bTLdW"
      },
      "source": [
        "from pulp import *"
      ],
      "execution_count": 5,
      "outputs": []
    },
    {
      "cell_type": "markdown",
      "metadata": {
        "id": "IndLdfbKwCBr"
      },
      "source": [
        "Przykładowy program:"
      ]
    },
    {
      "cell_type": "code",
      "metadata": {
        "id": "MBQG5AXaRuAR",
        "colab": {
          "base_uri": "https://localhost:8080/"
        },
        "outputId": "83b19e19-27c8-4c52-91b2-917c7815654b"
      },
      "source": [
        "prob = LpProblem(\"The Whiskas Problem\",LpMinimize)\n",
        "x1=LpVariable(\"ChickenPercent\",0,100)\n",
        "x2=LpVariable(\"BeefPercent\",0,100)\n",
        "x3=LpVariable(\"MuttonPercent\",0,100,)\n",
        "prob += 0.013*x1 + 0.008*x2 + 0.01*x3, \"Total Cost of Ingredients per can\"\n",
        "prob += 1*x3 >= 1, \"PercentagesMutton\"\n",
        "prob += x1 + x2 + x3 == 100, \"PercentagesSum\"\n",
        "prob += 0.100*x1 + 0.200*x2 + 0.15*x3 >= 8.0, \"ProteinRequirement\"\n",
        "prob += 0.080*x1 + 0.100*x2 + 0.11*x3 >= 6.0, \"FatRequirement\"\n",
        "prob += 0.001*x1 + 0.005*x2 + 0.003*x3 <= 2.0, \"FibreRequirement\"\n",
        "prob += 0.002*x1 + 0.005*x2 + 0.007*x3 <= 0.4, \"SaltRequirement\"\n",
        "\n",
        "prob.writeLP(\"WhiskasModel.lp\")\n",
        "prob.solve()\n",
        "print(\"Status:\", LpStatus[prob.status])\n",
        "for v in prob.variables():\n",
        "    print(v.name, \"=\", v.varValue)\n",
        "print(\"Total Cost of Ingredients per can = \", value(prob.objective))"
      ],
      "execution_count": 6,
      "outputs": [
        {
          "output_type": "stream",
          "text": [
            "Status: Optimal\n",
            "BeefPercent = 65.0\n",
            "ChickenPercent = 34.0\n",
            "MuttonPercent = 1.0\n",
            "Total Cost of Ingredients per can =  0.972\n"
          ],
          "name": "stdout"
        },
        {
          "output_type": "stream",
          "text": [
            "/usr/local/lib/python3.6/dist-packages/pulp/pulp.py:1198: UserWarning: Spaces are not permitted in the name. Converted to '_'\n",
            "  warnings.warn(\"Spaces are not permitted in the name. Converted to '_'\")\n"
          ],
          "name": "stderr"
        }
      ]
    },
    {
      "cell_type": "markdown",
      "metadata": {
        "id": "vBL_UzRAwHDw"
      },
      "source": [
        "Program z dodanymi zmiennymi:"
      ]
    },
    {
      "cell_type": "code",
      "metadata": {
        "id": "MWRPCTcNVb8i",
        "colab": {
          "base_uri": "https://localhost:8080/"
        },
        "outputId": "e35ea807-c8df-474f-b6cb-a7f6d0907135"
      },
      "source": [
        "Ingredients = ['CHICKEN', 'BEEF', 'MUTTON', 'RICE', 'WHEAT', 'GEL', 'Sardines', 'Green peas'] #definicja listy składników\n",
        "\n",
        "# A dictionary of the costs of each of the Ingredients is created\n",
        "costs = {'CHICKEN': 0.013, #słownik określający koszt poszczególnych składników\n",
        "         'BEEF': 0.008, \n",
        "         'MUTTON': 0.010, \n",
        "         'RICE': 0.002, \n",
        "         'WHEAT': 0.005, \n",
        "         'GEL': 0.001,\n",
        "         'Sardines': 0.01,\n",
        "         'Green peas': 0.0001,\n",
        "         }\n",
        "#następnie zostały zdefiniowane słowniki w których są umieszczone ilości poszczególnych składników odżywczych w składnikach\n",
        "# A dictionary of the protein percent in each of the Ingredients is created\n",
        "proteinPercent = {'CHICKEN': 0.100, \n",
        "                  'BEEF': 0.200, \n",
        "                  'MUTTON': 0.150, \n",
        "                  'RICE': 0.000, \n",
        "                  'WHEAT': 0.040, \n",
        "                  'GEL': 0.000,\n",
        "                  'Sardines': 0.025,\n",
        "                  'Green peas': 0.005\n",
        "                  }\n",
        "\n",
        "# A dictionary of the fat percent in each of the Ingredients is created\n",
        "fatPercent = {'CHICKEN': 0.080, \n",
        "              'BEEF': 0.100, \n",
        "              'MUTTON': 0.110, \n",
        "              'RICE': 0.010, \n",
        "              'WHEAT': 0.010, \n",
        "              'GEL': 0.000,\n",
        "              'Sardines': 0.011,\n",
        "              'Green peas': 0.004,\n",
        "              }\n",
        "\n",
        "# A dictionary of the fibre percent in each of the Ingredients is created\n",
        "fibrePercent = {'CHICKEN': 0.001, \n",
        "                'BEEF': 0.005, \n",
        "                'MUTTON': 0.003, \n",
        "                'RICE': 0.100, \n",
        "                'WHEAT': 0.150, \n",
        "                'GEL': 0.000,\n",
        "                'Sardines': 0.0,\n",
        "                'Green peas': 0.06,\n",
        "                }\n",
        "\n",
        "# A dictionary of the salt percent in each of the Ingredients is created\n",
        "saltPercent = {'CHICKEN': 0.002, \n",
        "               'BEEF': 0.005, \n",
        "               'MUTTON': 0.007, \n",
        "               'RICE': 0.002, \n",
        "               'WHEAT': 0.008, \n",
        "               'GEL': 0.000,\n",
        "               'Sardines': 0.005,\n",
        "               'Green peas': 0.0045,\n",
        "               }\n",
        "vitaminbPercent = {'CHICKEN': 0.003, \n",
        "               'BEEF': 0.026, \n",
        "               'MUTTON': 0.026, \n",
        "               'RICE': 0.000, \n",
        "               'WHEAT': 0.000, \n",
        "               'GEL': 0.000,\n",
        "               'Sardines': 0.001,\n",
        "               'Green peas': 0.0015,\n",
        "               }\n",
        "\n",
        "prob = LpProblem(\"The Whiskas Problem\", LpMinimize) #zdefiniowanie problemu, minimalizacja kosztów\n",
        "ingredient_vars = LpVariable.dicts(\"Ingr\",Ingredients,0) \n",
        "prob += lpSum([costs[i]*ingredient_vars[i] for i in Ingredients]), \"Total Cost of Ingredients per can\" #obliczenie sumy kosztów poszczególnych użytych składników\n",
        "# The five constraints are added to 'prob'\n",
        "prob += lpSum([ingredient_vars[i] for i in Ingredients]) == 100, \"PercentagesSum\" #suma zastosowanych składników musi dać 100% produktu\n",
        "prob += lpSum([proteinPercent[i] * ingredient_vars[i] for i in Ingredients]) >= 8.0, \"ProteinRequirement\" #ograniczenia wynikające z określonych ilości poszczególnych składników odżywczych w gotowym produkcie\n",
        "prob += lpSum([fatPercent[i] * ingredient_vars[i] for i in Ingredients]) >= 6.0, \"FatRequirement\"\n",
        "prob += lpSum([fibrePercent[i] * ingredient_vars[i] for i in Ingredients]) <= 2.0, \"FibreRequirement\"\n",
        "prob += lpSum([saltPercent[i] * ingredient_vars[i] for i in Ingredients]) <= 0.4, \"SaltRequirement\" \n",
        "prob += lpSum([vitaminbPercent[i] * ingredient_vars[i] for i in Ingredients]) == 0.8, \"VitaminbRequirement\"             \n",
        "prob.writeLP(\"WhiskasModel.lp\")\n",
        "prob.solve()\n",
        "print(\"Status:\", LpStatus[prob.status])\n",
        "print(\"Końcowa wartość 1 puszki wynosi:\", value(prob.objective))\n",
        "print(\"I zawiera:\")\n",
        "for v in prob.variables():\n",
        "    sklejone_produkt_cena = [\":\".join((v.name, str(v.varValue)))]\n",
        "    sklejona_calosc = \", \".join(sklejone_produkt_cena)\n",
        "    print(sklejona_calosc)\n",
        "\n",
        "\n",
        "  \n",
        "\n"
      ],
      "execution_count": 7,
      "outputs": [
        {
          "output_type": "stream",
          "text": [
            "Status: Optimal\n",
            "Końcowa wartość 1 puszki wynosi: 0.7622015741000001\n",
            "I zawiera:\n",
            "Ingr_BEEF:23.985476\n",
            "Ingr_CHICKEN:43.487668\n",
            "Ingr_GEL:1.9171072\n",
            "Ingr_Green_peas:30.609749\n",
            "Ingr_MUTTON:0.0\n",
            "Ingr_RICE:0.0\n",
            "Ingr_Sardines:0.0\n",
            "Ingr_WHEAT:0.0\n"
          ],
          "name": "stdout"
        },
        {
          "output_type": "stream",
          "text": [
            "/usr/local/lib/python3.6/dist-packages/pulp/pulp.py:1198: UserWarning: Spaces are not permitted in the name. Converted to '_'\n",
            "  warnings.warn(\"Spaces are not permitted in the name. Converted to '_'\")\n"
          ],
          "name": "stderr"
        }
      ]
    },
    {
      "cell_type": "markdown",
      "metadata": {
        "id": "h6VegmwzxMWW"
      },
      "source": [
        "Otrzymaliśmy optymalny produkt pod względem minimalizacji ceny produkcji. Karma spełnia wszystkie założenia jeśli chodzi o zawartość poszczególnych składników odżywczych. W końcowym składzie znajduje się dodany produkt - zielonmy groszek. Jednak używając ceny znalezionej w internecie groszek nie bbyłby używany w produkcji karmy. Występowały w niej tańsze produkty. Cena groszku na potrzeby zadania została zmniejszona. Sprawiając, że groszek jest tańszy został on dodany do składu końcowego produktu. Świadczy to o tym, że cena poszczególnego produktu jest ważnym czynnnikem wpływającym na to jakich składników powinniśmy użyć w celu zminimalizowania kosztów produkcji."
      ]
    }
  ]
}