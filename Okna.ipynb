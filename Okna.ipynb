{
  "nbformat": 4,
  "nbformat_minor": 0,
  "metadata": {
    "colab": {
      "name": "Witamy w Colaboratory",
      "provenance": [],
      "collapsed_sections": []
    },
    "kernelspec": {
      "display_name": "Python 3",
      "name": "python3"
    },
    "widgets": {
      "application/vnd.jupyter.widget-state+json": {
        "9d2dcf46be0d4b3da4c719d85d2bf9c8": {
          "model_module": "@jupyter-widgets/controls",
          "model_name": "VBoxModel",
          "state": {
            "_view_name": "VBoxView",
            "_dom_classes": [
              "widget-interact"
            ],
            "_model_name": "VBoxModel",
            "_view_module": "@jupyter-widgets/controls",
            "_model_module_version": "1.5.0",
            "_view_count": null,
            "_view_module_version": "1.5.0",
            "box_style": "",
            "layout": "IPY_MODEL_269b3158c5374f009fc981b8168137c0",
            "_model_module": "@jupyter-widgets/controls",
            "children": [
              "IPY_MODEL_24c016c87a604e1f88a75c397df75c57",
              "IPY_MODEL_c05e4f40b0904dfe9f1faf7f287e6fee",
              "IPY_MODEL_9b1c84b964bb41c780eb2857bf860a04",
              "IPY_MODEL_f8ddecf6e0814efcb7d2fa357c26d53d"
            ]
          }
        },
        "269b3158c5374f009fc981b8168137c0": {
          "model_module": "@jupyter-widgets/base",
          "model_name": "LayoutModel",
          "state": {
            "_view_name": "LayoutView",
            "grid_template_rows": null,
            "right": null,
            "justify_content": null,
            "_view_module": "@jupyter-widgets/base",
            "overflow": null,
            "_model_module_version": "1.2.0",
            "_view_count": null,
            "flex_flow": null,
            "width": null,
            "min_width": null,
            "border": null,
            "align_items": null,
            "bottom": null,
            "_model_module": "@jupyter-widgets/base",
            "top": null,
            "grid_column": null,
            "overflow_y": null,
            "overflow_x": null,
            "grid_auto_flow": null,
            "grid_area": null,
            "grid_template_columns": null,
            "flex": null,
            "_model_name": "LayoutModel",
            "justify_items": null,
            "grid_row": null,
            "max_height": null,
            "align_content": null,
            "visibility": null,
            "align_self": null,
            "height": null,
            "min_height": null,
            "padding": null,
            "grid_auto_rows": null,
            "grid_gap": null,
            "max_width": null,
            "order": null,
            "_view_module_version": "1.2.0",
            "grid_template_areas": null,
            "object_position": null,
            "object_fit": null,
            "grid_auto_columns": null,
            "margin": null,
            "display": null,
            "left": null
          }
        },
        "24c016c87a604e1f88a75c397df75c57": {
          "model_module": "@jupyter-widgets/controls",
          "model_name": "FloatSliderModel",
          "state": {
            "_view_name": "FloatSliderView",
            "style": "IPY_MODEL_13dfef98faa24968bb1f285c84815d5b",
            "_dom_classes": [],
            "description": "fabryka_1_slider",
            "step": 0.1,
            "_model_name": "FloatSliderModel",
            "orientation": "horizontal",
            "max": 50,
            "_view_module": "@jupyter-widgets/controls",
            "_model_module_version": "1.5.0",
            "value": 29.9,
            "_view_count": null,
            "disabled": false,
            "_view_module_version": "1.5.0",
            "min": 0,
            "continuous_update": true,
            "readout_format": ".2f",
            "description_tooltip": null,
            "readout": true,
            "_model_module": "@jupyter-widgets/controls",
            "layout": "IPY_MODEL_4ab8913ff74042feab8057f385246f5c"
          }
        },
        "c05e4f40b0904dfe9f1faf7f287e6fee": {
          "model_module": "@jupyter-widgets/controls",
          "model_name": "FloatSliderModel",
          "state": {
            "_view_name": "FloatSliderView",
            "style": "IPY_MODEL_1698e259c57b437caf287d7a3cf93bb7",
            "_dom_classes": [],
            "description": "fabryka_2_slider",
            "step": 0.1,
            "_model_name": "FloatSliderModel",
            "orientation": "horizontal",
            "max": 50,
            "_view_module": "@jupyter-widgets/controls",
            "_model_module_version": "1.5.0",
            "value": 35.9,
            "_view_count": null,
            "disabled": false,
            "_view_module_version": "1.5.0",
            "min": 0,
            "continuous_update": true,
            "readout_format": ".2f",
            "description_tooltip": null,
            "readout": true,
            "_model_module": "@jupyter-widgets/controls",
            "layout": "IPY_MODEL_642cd216548f4fadb03059a80441e4b3"
          }
        },
        "9b1c84b964bb41c780eb2857bf860a04": {
          "model_module": "@jupyter-widgets/controls",
          "model_name": "FloatSliderModel",
          "state": {
            "_view_name": "FloatSliderView",
            "style": "IPY_MODEL_5400c737337c4aeab3693de6fc35d7c4",
            "_dom_classes": [],
            "description": "fabryka_3_slider",
            "step": 0.1,
            "_model_name": "FloatSliderModel",
            "orientation": "horizontal",
            "max": 50,
            "_view_module": "@jupyter-widgets/controls",
            "_model_module_version": "1.5.0",
            "value": 31.9,
            "_view_count": null,
            "disabled": false,
            "_view_module_version": "1.5.0",
            "min": 0,
            "continuous_update": true,
            "readout_format": ".2f",
            "description_tooltip": null,
            "readout": true,
            "_model_module": "@jupyter-widgets/controls",
            "layout": "IPY_MODEL_dbe918b693f14d27bea0377d3f5b4da7"
          }
        },
        "f8ddecf6e0814efcb7d2fa357c26d53d": {
          "model_module": "@jupyter-widgets/output",
          "model_name": "OutputModel",
          "state": {
            "_view_name": "OutputView",
            "msg_id": "",
            "_dom_classes": [],
            "_model_name": "OutputModel",
            "outputs": [
              {
                "output_type": "stream",
                "metadata": {
                  "tags": []
                },
                "text": "Status: Optimal\nOkna_aluminiowe = 0.0\nOkna_drewniane = 15.0\nZysk =  75000.0\n**********Shadow Prices**********\n         name  shadow price  slack\n0   Fabryka_1          -0.0   29.9\n1   Fabryka_2          -0.0    5.9\n2  Fabrryka_3          -0.0    1.9\n",
                "stream": "stdout"
              }
            ],
            "_view_module": "@jupyter-widgets/output",
            "_model_module_version": "1.0.0",
            "_view_count": null,
            "_view_module_version": "1.0.0",
            "layout": "IPY_MODEL_71b4b4c9ace04b95b949bc72ea1a15ed",
            "_model_module": "@jupyter-widgets/output"
          }
        },
        "13dfef98faa24968bb1f285c84815d5b": {
          "model_module": "@jupyter-widgets/controls",
          "model_name": "SliderStyleModel",
          "state": {
            "_view_name": "StyleView",
            "handle_color": null,
            "_model_name": "SliderStyleModel",
            "description_width": "initial",
            "_view_module": "@jupyter-widgets/base",
            "_model_module_version": "1.5.0",
            "_view_count": null,
            "_view_module_version": "1.2.0",
            "_model_module": "@jupyter-widgets/controls"
          }
        },
        "4ab8913ff74042feab8057f385246f5c": {
          "model_module": "@jupyter-widgets/base",
          "model_name": "LayoutModel",
          "state": {
            "_view_name": "LayoutView",
            "grid_template_rows": null,
            "right": null,
            "justify_content": null,
            "_view_module": "@jupyter-widgets/base",
            "overflow": null,
            "_model_module_version": "1.2.0",
            "_view_count": null,
            "flex_flow": null,
            "width": null,
            "min_width": null,
            "border": null,
            "align_items": null,
            "bottom": null,
            "_model_module": "@jupyter-widgets/base",
            "top": null,
            "grid_column": null,
            "overflow_y": null,
            "overflow_x": null,
            "grid_auto_flow": null,
            "grid_area": null,
            "grid_template_columns": null,
            "flex": null,
            "_model_name": "LayoutModel",
            "justify_items": null,
            "grid_row": null,
            "max_height": null,
            "align_content": null,
            "visibility": null,
            "align_self": null,
            "height": null,
            "min_height": null,
            "padding": null,
            "grid_auto_rows": null,
            "grid_gap": null,
            "max_width": null,
            "order": null,
            "_view_module_version": "1.2.0",
            "grid_template_areas": null,
            "object_position": null,
            "object_fit": null,
            "grid_auto_columns": null,
            "margin": null,
            "display": null,
            "left": null
          }
        },
        "1698e259c57b437caf287d7a3cf93bb7": {
          "model_module": "@jupyter-widgets/controls",
          "model_name": "SliderStyleModel",
          "state": {
            "_view_name": "StyleView",
            "handle_color": null,
            "_model_name": "SliderStyleModel",
            "description_width": "initial",
            "_view_module": "@jupyter-widgets/base",
            "_model_module_version": "1.5.0",
            "_view_count": null,
            "_view_module_version": "1.2.0",
            "_model_module": "@jupyter-widgets/controls"
          }
        },
        "642cd216548f4fadb03059a80441e4b3": {
          "model_module": "@jupyter-widgets/base",
          "model_name": "LayoutModel",
          "state": {
            "_view_name": "LayoutView",
            "grid_template_rows": null,
            "right": null,
            "justify_content": null,
            "_view_module": "@jupyter-widgets/base",
            "overflow": null,
            "_model_module_version": "1.2.0",
            "_view_count": null,
            "flex_flow": null,
            "width": null,
            "min_width": null,
            "border": null,
            "align_items": null,
            "bottom": null,
            "_model_module": "@jupyter-widgets/base",
            "top": null,
            "grid_column": null,
            "overflow_y": null,
            "overflow_x": null,
            "grid_auto_flow": null,
            "grid_area": null,
            "grid_template_columns": null,
            "flex": null,
            "_model_name": "LayoutModel",
            "justify_items": null,
            "grid_row": null,
            "max_height": null,
            "align_content": null,
            "visibility": null,
            "align_self": null,
            "height": null,
            "min_height": null,
            "padding": null,
            "grid_auto_rows": null,
            "grid_gap": null,
            "max_width": null,
            "order": null,
            "_view_module_version": "1.2.0",
            "grid_template_areas": null,
            "object_position": null,
            "object_fit": null,
            "grid_auto_columns": null,
            "margin": null,
            "display": null,
            "left": null
          }
        },
        "5400c737337c4aeab3693de6fc35d7c4": {
          "model_module": "@jupyter-widgets/controls",
          "model_name": "SliderStyleModel",
          "state": {
            "_view_name": "StyleView",
            "handle_color": null,
            "_model_name": "SliderStyleModel",
            "description_width": "initial",
            "_view_module": "@jupyter-widgets/base",
            "_model_module_version": "1.5.0",
            "_view_count": null,
            "_view_module_version": "1.2.0",
            "_model_module": "@jupyter-widgets/controls"
          }
        },
        "dbe918b693f14d27bea0377d3f5b4da7": {
          "model_module": "@jupyter-widgets/base",
          "model_name": "LayoutModel",
          "state": {
            "_view_name": "LayoutView",
            "grid_template_rows": null,
            "right": null,
            "justify_content": null,
            "_view_module": "@jupyter-widgets/base",
            "overflow": null,
            "_model_module_version": "1.2.0",
            "_view_count": null,
            "flex_flow": null,
            "width": null,
            "min_width": null,
            "border": null,
            "align_items": null,
            "bottom": null,
            "_model_module": "@jupyter-widgets/base",
            "top": null,
            "grid_column": null,
            "overflow_y": null,
            "overflow_x": null,
            "grid_auto_flow": null,
            "grid_area": null,
            "grid_template_columns": null,
            "flex": null,
            "_model_name": "LayoutModel",
            "justify_items": null,
            "grid_row": null,
            "max_height": null,
            "align_content": null,
            "visibility": null,
            "align_self": null,
            "height": null,
            "min_height": null,
            "padding": null,
            "grid_auto_rows": null,
            "grid_gap": null,
            "max_width": null,
            "order": null,
            "_view_module_version": "1.2.0",
            "grid_template_areas": null,
            "object_position": null,
            "object_fit": null,
            "grid_auto_columns": null,
            "margin": null,
            "display": null,
            "left": null
          }
        },
        "71b4b4c9ace04b95b949bc72ea1a15ed": {
          "model_module": "@jupyter-widgets/base",
          "model_name": "LayoutModel",
          "state": {
            "_view_name": "LayoutView",
            "grid_template_rows": null,
            "right": null,
            "justify_content": null,
            "_view_module": "@jupyter-widgets/base",
            "overflow": null,
            "_model_module_version": "1.2.0",
            "_view_count": null,
            "flex_flow": null,
            "width": null,
            "min_width": null,
            "border": null,
            "align_items": null,
            "bottom": null,
            "_model_module": "@jupyter-widgets/base",
            "top": null,
            "grid_column": null,
            "overflow_y": null,
            "overflow_x": null,
            "grid_auto_flow": null,
            "grid_area": null,
            "grid_template_columns": null,
            "flex": null,
            "_model_name": "LayoutModel",
            "justify_items": null,
            "grid_row": null,
            "max_height": null,
            "align_content": null,
            "visibility": null,
            "align_self": null,
            "height": null,
            "min_height": null,
            "padding": null,
            "grid_auto_rows": null,
            "grid_gap": null,
            "max_width": null,
            "order": null,
            "_view_module_version": "1.2.0",
            "grid_template_areas": null,
            "object_position": null,
            "object_fit": null,
            "grid_auto_columns": null,
            "margin": null,
            "display": null,
            "left": null
          }
        }
      }
    }
  },
  "cells": [
    {
      "cell_type": "markdown",
      "metadata": {
        "id": "wYEqvyTTaZO3"
      },
      "source": [
        "###**Cel ćwiczenia:**\n",
        "Celem przeprowadzonego ćwiczenia jest rozwiązanie problemu liniowego. Naszym zadaniem jest znalezienie optymalnego rozwiązania jeśli chodzi o ilości produkcji okien aluminiowych lub drewnianych, aby osiągnąć maksymalny zysk. Zysk wynoszący z produkcji jednej partii okien drewnianych wynosi 5000zł, natomiast z produkcji jednej partii okien aluminiowych 3000zł. Producent posiada trzy fabryki. Każda z tych fabryk posiada ograniczenia w możliwości produkcji danego typu okien. Następujące ograniczenia przedstawia tabela:\n",
        "\n",
        "|           | okna drewniane(czas potrzebny na produkcję 1 partii) | okna aluminiowe(czas potrzebny na produkcję 1 partii) | dostępne godziny |\n",
        "|-----------|------------------------------------------------------|-------------------------------------------------------|------------------|\n",
        "| fabryka 1: |                    1                          |                           x                           |         4        |\n",
        "| fabryka 2: |                           x                          |                           2                           |        12        |\n",
        "| fabryka 3: |                           3                          |                           2                           |        18        |\n",
        "\n",
        "Posiadając takie dane musimy rozwiązać zadanie problemu liniowego jak rozłożyć produkcję poszczególnych okien, tak aby zysk był jak największy. Maksymalizujemy zysk z produkcji.\n",
        "\n"
      ]
    },
    {
      "cell_type": "code",
      "metadata": {
        "id": "ThZjcGqTdlme",
        "colab": {
          "base_uri": "https://localhost:8080/"
        },
        "outputId": "1764ac90-0940-4d12-b501-095efa63de8f"
      },
      "source": [
        "!pip install pulp\n",
        "\n",
        "#!sudo apt-get install coinor-cbc glpk-utils coinor-clp\n",
        "!conda install -c conda-forge pulp"
      ],
      "execution_count": 1,
      "outputs": [
        {
          "output_type": "stream",
          "text": [
            "Collecting pulp\n",
            "\u001b[?25l  Downloading https://files.pythonhosted.org/packages/89/0c/6d80f5f81a92d1733cc5ca180491b8a3cd5839e335627a0046c81b7d3d3d/PuLP-2.3.1-py3-none-any.whl (40.6MB)\n",
            "\u001b[K     |████████████████████████████████| 40.6MB 114kB/s \n",
            "\u001b[?25hCollecting amply>=0.1.2\n",
            "  Downloading https://files.pythonhosted.org/packages/f3/c5/dfa09dd2595a2ab2ab4e6fa7bebef9565812722e1980d04b0edce5032066/amply-0.1.4-py3-none-any.whl\n",
            "Requirement already satisfied: docutils>=0.3 in /usr/local/lib/python3.6/dist-packages (from amply>=0.1.2->pulp) (0.16)\n",
            "Requirement already satisfied: pyparsing in /usr/local/lib/python3.6/dist-packages (from amply>=0.1.2->pulp) (2.4.7)\n",
            "Installing collected packages: amply, pulp\n",
            "Successfully installed amply-0.1.4 pulp-2.3.1\n",
            "/bin/bash: conda: command not found\n"
          ],
          "name": "stdout"
        }
      ]
    },
    {
      "cell_type": "code",
      "metadata": {
        "id": "eyy9vJBId3Dd",
        "colab": {
          "base_uri": "https://localhost:8080/"
        },
        "outputId": "e11214c6-f9ea-4a52-adb0-5bd10edc3ba0"
      },
      "source": [
        "import pulp\n",
        "\n",
        "print(pulp.__version__)"
      ],
      "execution_count": 2,
      "outputs": [
        {
          "output_type": "stream",
          "text": [
            "2.3.1\n"
          ],
          "name": "stdout"
        }
      ]
    },
    {
      "cell_type": "code",
      "metadata": {
        "id": "N-3iDPCZd5Tz"
      },
      "source": [
        "from pulp import *"
      ],
      "execution_count": 3,
      "outputs": []
    },
    {
      "cell_type": "code",
      "metadata": {
        "id": "PnlREpUleAdk",
        "colab": {
          "base_uri": "https://localhost:8080/"
        },
        "outputId": "45623c1e-ea42-45ab-a6f5-bc6a3511a51c"
      },
      "source": [
        "prob = LpProblem(\"Okna\",LpMaximize)\n",
        "x1=LpVariable(\"Okna_aluminiowe\",0) #stworzenie zmiennych decyzyjnych \n",
        "x2=LpVariable(\"Okna_drewniane\",0)\n",
        "prob += 3000*x1 + 5000*x2, \"Zysk\" #obliczenie zysku \n",
        "prob += x1 <= 4, \"Fabryka_1\" #ograniczenia fabryki 1\n",
        "prob += 2*x2 <= 12, \"Fabryka_2\" ##ograniczenia fabryki 2\n",
        "prob += 3*x1 + 2*x2 <= 18, \"Fabrryka_3\" #ograniczenia fabryki 3\n",
        "\n",
        "\n",
        "prob.writeLP(\"Okna.lp\")\n",
        "prob.solve()\n",
        "print(\"Status:\", LpStatus[prob.status])\n",
        "for v in prob.variables():\n",
        "    print(v.name, \"=\", v.varValue)\n",
        "print(\"Zysk = \", value(prob.objective))"
      ],
      "execution_count": 4,
      "outputs": [
        {
          "output_type": "stream",
          "text": [
            "Status: Optimal\n",
            "Okna_aluminiowe = 2.0\n",
            "Okna_drewniane = 6.0\n",
            "Zysk =  36000.0\n"
          ],
          "name": "stdout"
        }
      ]
    },
    {
      "cell_type": "markdown",
      "metadata": {
        "id": "flFWaXSikcvj"
      },
      "source": [
        "Obliczenie zysku jest realizowane przez wymnożenie ilości partii wyprodukowanych przez zysk jaki generuje dana partia. Zastosowane ograniczenia wynikają z danych zawartych w tabeli. Optymalnym rozwiązaniem naszego problemu jest wytworzenie przez danego producenta 2 partii okien aluminiowych oraz 6 partii okien drewnianych. Wyliczony maksymalny zysk wyniesie 36000zł. W dalszej częsci ćwiczenia zostały dodane suwaki, dzięki którymi mamy możliwość zmiany ograniczenia w godzinach pracy poszczególnych fabryk."
      ]
    },
    {
      "cell_type": "code",
      "metadata": {
        "id": "APxPPcZRivJ6",
        "colab": {
          "base_uri": "https://localhost:8080/",
          "height": 283,
          "referenced_widgets": [
            "9d2dcf46be0d4b3da4c719d85d2bf9c8",
            "269b3158c5374f009fc981b8168137c0",
            "24c016c87a604e1f88a75c397df75c57",
            "c05e4f40b0904dfe9f1faf7f287e6fee",
            "9b1c84b964bb41c780eb2857bf860a04",
            "f8ddecf6e0814efcb7d2fa357c26d53d",
            "13dfef98faa24968bb1f285c84815d5b",
            "4ab8913ff74042feab8057f385246f5c",
            "1698e259c57b437caf287d7a3cf93bb7",
            "642cd216548f4fadb03059a80441e4b3",
            "5400c737337c4aeab3693de6fc35d7c4",
            "dbe918b693f14d27bea0377d3f5b4da7",
            "71b4b4c9ace04b95b949bc72ea1a15ed"
          ]
        },
        "outputId": "1ea66596-be5c-47ca-a40e-d8a28bc0aa33"
      },
      "source": [
        "from __future__ import print_function\n",
        "from ipywidgets import interact, interactive, fixed, interact_manual, Layout, FloatSlider, IntSlider\n",
        "import ipywidgets as widgets\n",
        "import pandas as pd\n",
        "\n",
        "style = {'description_width': 'initial'}\n",
        "fabryka_1_slider = FloatSlider(min=0,max = 50, value= 4, description=\"fabryka_1_slider\", style= style ) #zdefiniowanie ograniczeń godzinowych pracy poszczególnych fabryk jako wielkości slider\n",
        "fabryka_2_slider = FloatSlider(min=0,max = 50,value= 12, description=\"fabryka_2_slider\", style= style )\n",
        "fabryka_3_slider = FloatSlider(min=0,max = 50, value= 18, description=\"fabryka_3_slider\", style= style )\n",
        "def hurt_produkcja(fabryka_1 = 4, #zdefiniowanie wartości ograniczeń początkowe\n",
        "    fabryka_2 = 12,\n",
        "    fabryka_3= 18,):\n",
        "  \n",
        "  prob = LpProblem(\"Okna\",LpMaximize)\n",
        "  x1=LpVariable(\"Okna_aluminiowe\",0, None, LpInteger) #zmienne decyzyjne\n",
        "  x2=LpVariable(\"Okna_drewniane\",0, None, LpInteger)\n",
        "  prob += 3000*x1 + 5000*x2, \"Zysk\" #obliczanie zysku \n",
        "  prob += x1 <= fabryka_1, \"Fabryka_1\" # ograniczenia poszczególnych fabryk\n",
        "  prob += 2*x2 <= fabryka_2, \"Fabryka_2\"\n",
        "  prob += 3*x1 + 2*x2 <= fabryka_3, \"Fabrryka_3\"\n",
        "\n",
        "  prob.writeLP(\"Okna.lp\")\n",
        "  prob.solve()\n",
        "  print(\"Status:\", LpStatus[prob.status])\n",
        "  for v in prob.variables():\n",
        "    print(v.name, \"=\", v.varValue)\n",
        "  print(\"Zysk = \", value(prob.objective))\n",
        "  shadows = [{'name':name, 'shadow price': c.pi, \"slack\": c.slack} for name, c in prob.constraints.items()]\n",
        "  print(\"*\"*10+\"Shadow Prices\"+\"*\"*10)\n",
        "  print(pd.DataFrame(shadows))\n",
        "interact(hurt_produkcja,fabryka_1 = fabryka_1_slider, # przypisanie do zmiennych określających ograniczenia wartości odczytanych z suwaków\n",
        "    fabryka_2 = fabryka_2_slider,\n",
        "    fabryka_3 = fabryka_3_slider,)"
      ],
      "execution_count": 5,
      "outputs": [
        {
          "output_type": "display_data",
          "data": {
            "application/vnd.jupyter.widget-view+json": {
              "model_id": "9d2dcf46be0d4b3da4c719d85d2bf9c8",
              "version_minor": 0,
              "version_major": 2
            },
            "text/plain": [
              "interactive(children=(FloatSlider(value=4.0, description='fabryka_1_slider', max=50.0, style=SliderStyle(descr…"
            ]
          },
          "metadata": {
            "tags": []
          }
        },
        {
          "output_type": "execute_result",
          "data": {
            "text/plain": [
              "<function __main__.hurt_produkcja>"
            ]
          },
          "metadata": {
            "tags": []
          },
          "execution_count": 5
        }
      ]
    },
    {
      "cell_type": "markdown",
      "metadata": {
        "id": "iYGXT2HJmGUS"
      },
      "source": [
        "Zmieniając wartości poszczególnych suwaków zmieniamy ilość godzin dostępnych w poszczególnych fabrykach. Dzięki temu możliwa jest obserwacja zmian otrzymanego maksymalnego zysku, a także ilości produkowanych partii okien w zależności od wydajności danej firmy. Tabela shadow price informuje nas czy wartości ograniczeń są optymalne, czy możliwy jest lepszy dobór danych wartości. "
      ]
    }
  ]
}