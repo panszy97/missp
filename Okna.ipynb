{
  "nbformat": 4,
  "nbformat_minor": 0,
  "metadata": {
    "colab": {
      "name": "Witamy w Colaboratory",
      "provenance": [],
      "collapsed_sections": []
    },
    "kernelspec": {
      "display_name": "Python 3",
      "name": "python3"
    },
    "widgets": {
      "application/vnd.jupyter.widget-state+json": {
        "5468dda885e0450aa1ad78a3a634c63a": {
          "model_module": "@jupyter-widgets/controls",
          "model_name": "VBoxModel",
          "state": {
            "_view_name": "VBoxView",
            "_dom_classes": [
              "widget-interact"
            ],
            "_model_name": "VBoxModel",
            "_view_module": "@jupyter-widgets/controls",
            "_model_module_version": "1.5.0",
            "_view_count": null,
            "_view_module_version": "1.5.0",
            "box_style": "",
            "layout": "IPY_MODEL_d4837d9a718748e9b162f5dfb9666db8",
            "_model_module": "@jupyter-widgets/controls",
            "children": [
              "IPY_MODEL_8dc6e692051e4efbbc3c4eaf0a00042a",
              "IPY_MODEL_7bba0b181c294016b1ae9137f95cb86f",
              "IPY_MODEL_7476d397c31e42a8bfff25e828abc969",
              "IPY_MODEL_710c5edb6995497690e613c09e9f7d0f"
            ]
          }
        },
        "d4837d9a718748e9b162f5dfb9666db8": {
          "model_module": "@jupyter-widgets/base",
          "model_name": "LayoutModel",
          "state": {
            "_view_name": "LayoutView",
            "grid_template_rows": null,
            "right": null,
            "justify_content": null,
            "_view_module": "@jupyter-widgets/base",
            "overflow": null,
            "_model_module_version": "1.2.0",
            "_view_count": null,
            "flex_flow": null,
            "width": null,
            "min_width": null,
            "border": null,
            "align_items": null,
            "bottom": null,
            "_model_module": "@jupyter-widgets/base",
            "top": null,
            "grid_column": null,
            "overflow_y": null,
            "overflow_x": null,
            "grid_auto_flow": null,
            "grid_area": null,
            "grid_template_columns": null,
            "flex": null,
            "_model_name": "LayoutModel",
            "justify_items": null,
            "grid_row": null,
            "max_height": null,
            "align_content": null,
            "visibility": null,
            "align_self": null,
            "height": null,
            "min_height": null,
            "padding": null,
            "grid_auto_rows": null,
            "grid_gap": null,
            "max_width": null,
            "order": null,
            "_view_module_version": "1.2.0",
            "grid_template_areas": null,
            "object_position": null,
            "object_fit": null,
            "grid_auto_columns": null,
            "margin": null,
            "display": null,
            "left": null
          }
        },
        "8dc6e692051e4efbbc3c4eaf0a00042a": {
          "model_module": "@jupyter-widgets/controls",
          "model_name": "FloatSliderModel",
          "state": {
            "_view_name": "FloatSliderView",
            "style": "IPY_MODEL_ed1bdd144ddc4eb9a30a8c1e6d51524d",
            "_dom_classes": [],
            "description": "fabryka_1_slider",
            "step": 0.1,
            "_model_name": "FloatSliderModel",
            "orientation": "horizontal",
            "max": 50,
            "_view_module": "@jupyter-widgets/controls",
            "_model_module_version": "1.5.0",
            "value": 35.8,
            "_view_count": null,
            "disabled": false,
            "_view_module_version": "1.5.0",
            "min": 0,
            "continuous_update": true,
            "readout_format": ".2f",
            "description_tooltip": null,
            "readout": true,
            "_model_module": "@jupyter-widgets/controls",
            "layout": "IPY_MODEL_4238da215e4c4136a6b2222b14ac2140"
          }
        },
        "7bba0b181c294016b1ae9137f95cb86f": {
          "model_module": "@jupyter-widgets/controls",
          "model_name": "FloatSliderModel",
          "state": {
            "_view_name": "FloatSliderView",
            "style": "IPY_MODEL_bb4dde853b1543818400ed102d19a3c5",
            "_dom_classes": [],
            "description": "fabryka_2_slider",
            "step": 0.1,
            "_model_name": "FloatSliderModel",
            "orientation": "horizontal",
            "max": 50,
            "_view_module": "@jupyter-widgets/controls",
            "_model_module_version": "1.5.0",
            "value": 37.8,
            "_view_count": null,
            "disabled": false,
            "_view_module_version": "1.5.0",
            "min": 0,
            "continuous_update": true,
            "readout_format": ".2f",
            "description_tooltip": null,
            "readout": true,
            "_model_module": "@jupyter-widgets/controls",
            "layout": "IPY_MODEL_32c9eded34e94c978e7bb483c42a40c0"
          }
        },
        "7476d397c31e42a8bfff25e828abc969": {
          "model_module": "@jupyter-widgets/controls",
          "model_name": "FloatSliderModel",
          "state": {
            "_view_name": "FloatSliderView",
            "style": "IPY_MODEL_593b69a924494e8bac884cc3944d1aa8",
            "_dom_classes": [],
            "description": "fabryka_3_slider",
            "step": 0.1,
            "_model_name": "FloatSliderModel",
            "orientation": "horizontal",
            "max": 50,
            "_view_module": "@jupyter-widgets/controls",
            "_model_module_version": "1.5.0",
            "value": 50,
            "_view_count": null,
            "disabled": false,
            "_view_module_version": "1.5.0",
            "min": 0,
            "continuous_update": true,
            "readout_format": ".2f",
            "description_tooltip": null,
            "readout": true,
            "_model_module": "@jupyter-widgets/controls",
            "layout": "IPY_MODEL_4f99b881e8a547b886f8bbc752f02de0"
          }
        },
        "710c5edb6995497690e613c09e9f7d0f": {
          "model_module": "@jupyter-widgets/output",
          "model_name": "OutputModel",
          "state": {
            "_view_name": "OutputView",
            "msg_id": "",
            "_dom_classes": [],
            "_model_name": "OutputModel",
            "outputs": [
              {
                "output_type": "stream",
                "metadata": {
                  "tags": []
                },
                "text": "Status: Optimal\nOkna_aluminiowe = 4.0\nOkna_drewniane = 18.0\nZysk =  102000.0\n**********Shadow Prices**********\n         name  shadow price  slack\n0   Fabryka_1          -0.0   31.8\n1   Fabryka_2          -0.0    1.8\n2  Fabrryka_3          -0.0    2.0\n",
                "stream": "stdout"
              }
            ],
            "_view_module": "@jupyter-widgets/output",
            "_model_module_version": "1.0.0",
            "_view_count": null,
            "_view_module_version": "1.0.0",
            "layout": "IPY_MODEL_3fa673d1afb3466590e9e2411f244ccb",
            "_model_module": "@jupyter-widgets/output"
          }
        },
        "ed1bdd144ddc4eb9a30a8c1e6d51524d": {
          "model_module": "@jupyter-widgets/controls",
          "model_name": "SliderStyleModel",
          "state": {
            "_view_name": "StyleView",
            "handle_color": null,
            "_model_name": "SliderStyleModel",
            "description_width": "initial",
            "_view_module": "@jupyter-widgets/base",
            "_model_module_version": "1.5.0",
            "_view_count": null,
            "_view_module_version": "1.2.0",
            "_model_module": "@jupyter-widgets/controls"
          }
        },
        "4238da215e4c4136a6b2222b14ac2140": {
          "model_module": "@jupyter-widgets/base",
          "model_name": "LayoutModel",
          "state": {
            "_view_name": "LayoutView",
            "grid_template_rows": null,
            "right": null,
            "justify_content": null,
            "_view_module": "@jupyter-widgets/base",
            "overflow": null,
            "_model_module_version": "1.2.0",
            "_view_count": null,
            "flex_flow": null,
            "width": null,
            "min_width": null,
            "border": null,
            "align_items": null,
            "bottom": null,
            "_model_module": "@jupyter-widgets/base",
            "top": null,
            "grid_column": null,
            "overflow_y": null,
            "overflow_x": null,
            "grid_auto_flow": null,
            "grid_area": null,
            "grid_template_columns": null,
            "flex": null,
            "_model_name": "LayoutModel",
            "justify_items": null,
            "grid_row": null,
            "max_height": null,
            "align_content": null,
            "visibility": null,
            "align_self": null,
            "height": null,
            "min_height": null,
            "padding": null,
            "grid_auto_rows": null,
            "grid_gap": null,
            "max_width": null,
            "order": null,
            "_view_module_version": "1.2.0",
            "grid_template_areas": null,
            "object_position": null,
            "object_fit": null,
            "grid_auto_columns": null,
            "margin": null,
            "display": null,
            "left": null
          }
        },
        "bb4dde853b1543818400ed102d19a3c5": {
          "model_module": "@jupyter-widgets/controls",
          "model_name": "SliderStyleModel",
          "state": {
            "_view_name": "StyleView",
            "handle_color": null,
            "_model_name": "SliderStyleModel",
            "description_width": "initial",
            "_view_module": "@jupyter-widgets/base",
            "_model_module_version": "1.5.0",
            "_view_count": null,
            "_view_module_version": "1.2.0",
            "_model_module": "@jupyter-widgets/controls"
          }
        },
        "32c9eded34e94c978e7bb483c42a40c0": {
          "model_module": "@jupyter-widgets/base",
          "model_name": "LayoutModel",
          "state": {
            "_view_name": "LayoutView",
            "grid_template_rows": null,
            "right": null,
            "justify_content": null,
            "_view_module": "@jupyter-widgets/base",
            "overflow": null,
            "_model_module_version": "1.2.0",
            "_view_count": null,
            "flex_flow": null,
            "width": null,
            "min_width": null,
            "border": null,
            "align_items": null,
            "bottom": null,
            "_model_module": "@jupyter-widgets/base",
            "top": null,
            "grid_column": null,
            "overflow_y": null,
            "overflow_x": null,
            "grid_auto_flow": null,
            "grid_area": null,
            "grid_template_columns": null,
            "flex": null,
            "_model_name": "LayoutModel",
            "justify_items": null,
            "grid_row": null,
            "max_height": null,
            "align_content": null,
            "visibility": null,
            "align_self": null,
            "height": null,
            "min_height": null,
            "padding": null,
            "grid_auto_rows": null,
            "grid_gap": null,
            "max_width": null,
            "order": null,
            "_view_module_version": "1.2.0",
            "grid_template_areas": null,
            "object_position": null,
            "object_fit": null,
            "grid_auto_columns": null,
            "margin": null,
            "display": null,
            "left": null
          }
        },
        "593b69a924494e8bac884cc3944d1aa8": {
          "model_module": "@jupyter-widgets/controls",
          "model_name": "SliderStyleModel",
          "state": {
            "_view_name": "StyleView",
            "handle_color": null,
            "_model_name": "SliderStyleModel",
            "description_width": "initial",
            "_view_module": "@jupyter-widgets/base",
            "_model_module_version": "1.5.0",
            "_view_count": null,
            "_view_module_version": "1.2.0",
            "_model_module": "@jupyter-widgets/controls"
          }
        },
        "4f99b881e8a547b886f8bbc752f02de0": {
          "model_module": "@jupyter-widgets/base",
          "model_name": "LayoutModel",
          "state": {
            "_view_name": "LayoutView",
            "grid_template_rows": null,
            "right": null,
            "justify_content": null,
            "_view_module": "@jupyter-widgets/base",
            "overflow": null,
            "_model_module_version": "1.2.0",
            "_view_count": null,
            "flex_flow": null,
            "width": null,
            "min_width": null,
            "border": null,
            "align_items": null,
            "bottom": null,
            "_model_module": "@jupyter-widgets/base",
            "top": null,
            "grid_column": null,
            "overflow_y": null,
            "overflow_x": null,
            "grid_auto_flow": null,
            "grid_area": null,
            "grid_template_columns": null,
            "flex": null,
            "_model_name": "LayoutModel",
            "justify_items": null,
            "grid_row": null,
            "max_height": null,
            "align_content": null,
            "visibility": null,
            "align_self": null,
            "height": null,
            "min_height": null,
            "padding": null,
            "grid_auto_rows": null,
            "grid_gap": null,
            "max_width": null,
            "order": null,
            "_view_module_version": "1.2.0",
            "grid_template_areas": null,
            "object_position": null,
            "object_fit": null,
            "grid_auto_columns": null,
            "margin": null,
            "display": null,
            "left": null
          }
        },
        "3fa673d1afb3466590e9e2411f244ccb": {
          "model_module": "@jupyter-widgets/base",
          "model_name": "LayoutModel",
          "state": {
            "_view_name": "LayoutView",
            "grid_template_rows": null,
            "right": null,
            "justify_content": null,
            "_view_module": "@jupyter-widgets/base",
            "overflow": null,
            "_model_module_version": "1.2.0",
            "_view_count": null,
            "flex_flow": null,
            "width": null,
            "min_width": null,
            "border": null,
            "align_items": null,
            "bottom": null,
            "_model_module": "@jupyter-widgets/base",
            "top": null,
            "grid_column": null,
            "overflow_y": null,
            "overflow_x": null,
            "grid_auto_flow": null,
            "grid_area": null,
            "grid_template_columns": null,
            "flex": null,
            "_model_name": "LayoutModel",
            "justify_items": null,
            "grid_row": null,
            "max_height": null,
            "align_content": null,
            "visibility": null,
            "align_self": null,
            "height": null,
            "min_height": null,
            "padding": null,
            "grid_auto_rows": null,
            "grid_gap": null,
            "max_width": null,
            "order": null,
            "_view_module_version": "1.2.0",
            "grid_template_areas": null,
            "object_position": null,
            "object_fit": null,
            "grid_auto_columns": null,
            "margin": null,
            "display": null,
            "left": null
          }
        }
      }
    }
  },
  "cells": [
    {
      "cell_type": "code",
      "metadata": {
        "id": "ThZjcGqTdlme",
        "outputId": "1b47f322-a708-43b0-9f84-b906350c35d0",
        "colab": {
          "base_uri": "https://localhost:8080/"
        }
      },
      "source": [
        "!pip install pulp\n",
        "\n",
        "#!sudo apt-get install coinor-cbc glpk-utils coinor-clp\n",
        "!conda install -c conda-forge pulp"
      ],
      "execution_count": 1,
      "outputs": [
        {
          "output_type": "stream",
          "text": [
            "Collecting pulp\n",
            "\u001b[?25l  Downloading https://files.pythonhosted.org/packages/89/0c/6d80f5f81a92d1733cc5ca180491b8a3cd5839e335627a0046c81b7d3d3d/PuLP-2.3.1-py3-none-any.whl (40.6MB)\n",
            "\u001b[K     |████████████████████████████████| 40.6MB 101kB/s \n",
            "\u001b[?25hCollecting amply>=0.1.2\n",
            "  Downloading https://files.pythonhosted.org/packages/f3/c5/dfa09dd2595a2ab2ab4e6fa7bebef9565812722e1980d04b0edce5032066/amply-0.1.4-py3-none-any.whl\n",
            "Requirement already satisfied: docutils>=0.3 in /usr/local/lib/python3.6/dist-packages (from amply>=0.1.2->pulp) (0.16)\n",
            "Requirement already satisfied: pyparsing in /usr/local/lib/python3.6/dist-packages (from amply>=0.1.2->pulp) (2.4.7)\n",
            "Installing collected packages: amply, pulp\n",
            "Successfully installed amply-0.1.4 pulp-2.3.1\n",
            "/bin/bash: conda: command not found\n"
          ],
          "name": "stdout"
        }
      ]
    },
    {
      "cell_type": "code",
      "metadata": {
        "id": "eyy9vJBId3Dd",
        "outputId": "0126cc83-119d-41ed-db19-a3588ddbe12f",
        "colab": {
          "base_uri": "https://localhost:8080/"
        }
      },
      "source": [
        "import pulp\n",
        "\n",
        "print(pulp.__version__)"
      ],
      "execution_count": 2,
      "outputs": [
        {
          "output_type": "stream",
          "text": [
            "2.3.1\n"
          ],
          "name": "stdout"
        }
      ]
    },
    {
      "cell_type": "code",
      "metadata": {
        "id": "N-3iDPCZd5Tz"
      },
      "source": [
        "from pulp import *"
      ],
      "execution_count": 3,
      "outputs": []
    },
    {
      "cell_type": "code",
      "metadata": {
        "id": "PnlREpUleAdk",
        "outputId": "526ad47e-0612-4a84-8746-bb7442b17269",
        "colab": {
          "base_uri": "https://localhost:8080/"
        }
      },
      "source": [
        "prob = LpProblem(\"Okna\",LpMaximize)\n",
        "x1=LpVariable(\"Okna_aluminiowe\",0)\n",
        "x2=LpVariable(\"Okna_drewniane\",0)\n",
        "prob += 3000*x1 + 5000*x2, \"Zysk\"\n",
        "prob += x1 <= 4, \"Fabryka_1\"\n",
        "prob += 2*x2 <= 12, \"Fabryka_2\"\n",
        "prob += 3*x1 + 2*x2 <= 18, \"Fabrryka_3\"\n",
        "\n",
        "\n",
        "prob.writeLP(\"Okna.lp\")\n",
        "prob.solve()\n",
        "print(\"Status:\", LpStatus[prob.status])\n",
        "for v in prob.variables():\n",
        "    print(v.name, \"=\", v.varValue)\n",
        "print(\"Zysk = \", value(prob.objective))"
      ],
      "execution_count": 9,
      "outputs": [
        {
          "output_type": "stream",
          "text": [
            "Status: Optimal\n",
            "Okna_aluminiowe = 2.0\n",
            "Okna_drewniane = 6.0\n",
            "Zysk =  36000.0\n"
          ],
          "name": "stdout"
        }
      ]
    },
    {
      "cell_type": "code",
      "metadata": {
        "id": "APxPPcZRivJ6",
        "outputId": "c8557fde-ad69-48cf-88d6-f30388b9c862",
        "colab": {
          "base_uri": "https://localhost:8080/",
          "height": 283,
          "referenced_widgets": [
            "5468dda885e0450aa1ad78a3a634c63a",
            "d4837d9a718748e9b162f5dfb9666db8",
            "8dc6e692051e4efbbc3c4eaf0a00042a",
            "7bba0b181c294016b1ae9137f95cb86f",
            "7476d397c31e42a8bfff25e828abc969",
            "710c5edb6995497690e613c09e9f7d0f",
            "ed1bdd144ddc4eb9a30a8c1e6d51524d",
            "4238da215e4c4136a6b2222b14ac2140",
            "bb4dde853b1543818400ed102d19a3c5",
            "32c9eded34e94c978e7bb483c42a40c0",
            "593b69a924494e8bac884cc3944d1aa8",
            "4f99b881e8a547b886f8bbc752f02de0",
            "3fa673d1afb3466590e9e2411f244ccb"
          ]
        }
      },
      "source": [
        "from __future__ import print_function\n",
        "from ipywidgets import interact, interactive, fixed, interact_manual, Layout, FloatSlider, IntSlider\n",
        "import ipywidgets as widgets\n",
        "import pandas as pd\n",
        "\n",
        "style = {'description_width': 'initial'}\n",
        "fabryka_1_slider = FloatSlider(min=0,max = 50, value= 4, description=\"fabryka_1_slider\", style= style )\n",
        "fabryka_2_slider = FloatSlider(min=0,max = 50,value= 12, description=\"fabryka_2_slider\", style= style )\n",
        "fabryka_3_slider = FloatSlider(min=0,max = 50, value= 18, description=\"fabryka_3_slider\", style= style )\n",
        "def hurt_produkcja(fabryka_1 = 4,\n",
        "    fabryka_2 = 12,\n",
        "    fabryka_3= 18,):\n",
        "  \n",
        "  prob = LpProblem(\"Okna\",LpMaximize)\n",
        "  x1=LpVariable(\"Okna_aluminiowe\",0, None, LpInteger)\n",
        "  x2=LpVariable(\"Okna_drewniane\",0, None, LpInteger)\n",
        "  prob += 3000*x1 + 5000*x2, \"Zysk\"\n",
        "  prob += x1 <= fabryka_1, \"Fabryka_1\"\n",
        "  prob += 2*x2 <= fabryka_2, \"Fabryka_2\"\n",
        "  prob += 3*x1 + 2*x2 <= fabryka_3, \"Fabrryka_3\"\n",
        "\n",
        "  prob.writeLP(\"Okna.lp\")\n",
        "  prob.solve()\n",
        "  print(\"Status:\", LpStatus[prob.status])\n",
        "  for v in prob.variables():\n",
        "    print(v.name, \"=\", v.varValue)\n",
        "  print(\"Zysk = \", value(prob.objective))\n",
        "  shadows = [{'name':name, 'shadow price': c.pi, \"slack\": c.slack} for name, c in prob.constraints.items()]\n",
        "  print(\"*\"*10+\"Shadow Prices\"+\"*\"*10)\n",
        "  print(pd.DataFrame(shadows))\n",
        "interact(hurt_produkcja,fabryka_1 = fabryka_1_slider,\n",
        "    fabryka_2 = fabryka_2_slider,\n",
        "    fabryka_3 = fabryka_3_slider,)"
      ],
      "execution_count": 30,
      "outputs": [
        {
          "output_type": "display_data",
          "data": {
            "application/vnd.jupyter.widget-view+json": {
              "model_id": "5468dda885e0450aa1ad78a3a634c63a",
              "version_minor": 0,
              "version_major": 2
            },
            "text/plain": [
              "interactive(children=(FloatSlider(value=4.0, description='fabryka_1_slider', max=50.0, style=SliderStyle(descr…"
            ]
          },
          "metadata": {
            "tags": []
          }
        },
        {
          "output_type": "execute_result",
          "data": {
            "text/plain": [
              "<function __main__.hurt_produkcja>"
            ]
          },
          "metadata": {
            "tags": []
          },
          "execution_count": 30
        }
      ]
    }
  ]
}