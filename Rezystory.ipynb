{
  "nbformat": 4,
  "nbformat_minor": 0,
  "metadata": {
    "colab": {
      "name": "Witamy w Colaboratory",
      "provenance": [],
      "collapsed_sections": [],
      "toc_visible": true
    },
    "kernelspec": {
      "display_name": "Python 3",
      "name": "python3"
    }
  },
  "cells": [
    {
      "cell_type": "code",
      "metadata": {
        "id": "25v34V7-bGFf",
        "outputId": "75fffedc-5905-49bc-8f89-323b3b4c58e8",
        "colab": {
          "base_uri": "https://localhost:8080/"
        }
      },
      "source": [
        "!pip install pulp\n",
        "!conda install -c conda-forge pulp"
      ],
      "execution_count": 1,
      "outputs": [
        {
          "output_type": "stream",
          "text": [
            "Collecting pulp\n",
            "\u001b[?25l  Downloading https://files.pythonhosted.org/packages/89/0c/6d80f5f81a92d1733cc5ca180491b8a3cd5839e335627a0046c81b7d3d3d/PuLP-2.3.1-py3-none-any.whl (40.6MB)\n",
            "\u001b[K     |████████████████████████████████| 40.6MB 104kB/s \n",
            "\u001b[?25hCollecting amply>=0.1.2\n",
            "  Downloading https://files.pythonhosted.org/packages/f3/c5/dfa09dd2595a2ab2ab4e6fa7bebef9565812722e1980d04b0edce5032066/amply-0.1.4-py3-none-any.whl\n",
            "Requirement already satisfied: pyparsing in /usr/local/lib/python3.6/dist-packages (from amply>=0.1.2->pulp) (2.4.7)\n",
            "Requirement already satisfied: docutils>=0.3 in /usr/local/lib/python3.6/dist-packages (from amply>=0.1.2->pulp) (0.16)\n",
            "Installing collected packages: amply, pulp\n",
            "Successfully installed amply-0.1.4 pulp-2.3.1\n",
            "/bin/bash: conda: command not found\n"
          ],
          "name": "stdout"
        }
      ]
    },
    {
      "cell_type": "code",
      "metadata": {
        "id": "f-1m93hlbM2Q",
        "outputId": "e7c7d83a-c2a3-4509-dc37-a155783771fc",
        "colab": {
          "base_uri": "https://localhost:8080/"
        }
      },
      "source": [
        "import pulp\n",
        "\n",
        "print(pulp.__version__)"
      ],
      "execution_count": 2,
      "outputs": [
        {
          "output_type": "stream",
          "text": [
            "2.3.1\n"
          ],
          "name": "stdout"
        }
      ]
    },
    {
      "cell_type": "code",
      "metadata": {
        "id": "VZtDTzPWbRph"
      },
      "source": [
        "from pulp import *"
      ],
      "execution_count": 3,
      "outputs": []
    },
    {
      "cell_type": "code",
      "metadata": {
        "id": "O-7zI5GnbSdS",
        "outputId": "7e5874a7-b447-4847-f49a-e35e1d526e78",
        "colab": {
          "base_uri": "https://localhost:8080/"
        }
      },
      "source": [
        "prob = LpProblem(\"Rezystory\",LpMinimize)\n",
        "x1=LpVariable(\"I1\")\n",
        "x2=LpVariable(\"I2\")\n",
        "x3=LpVariable(\"I3\")\n",
        "x4=LpVariable(\"I4\")\n",
        "x5=LpVariable(\"I5\")\n",
        "\n",
        "prob += 6*x1 + 10*x2 + 4*x3 + 7*x4 + 3*x5, \"Straty mocy\"\n",
        "prob += x1 <= 5 and x1 >= 3, \"I1\"\n",
        "prob += x2 <= 3 and x2 >= 1, \"I2\"\n",
        "prob += x3 <= 3 and x3 >= 1, \"I3\"\n",
        "prob += x4 <= 3 and x4 >= 1, \"I4\"\n",
        "prob += x5 <= 5 and x5 >= 3, \"I5\"\n",
        "prob += x1 == x4 + x3, \"1\"\n",
        "prob += x5 == x2 + x3, \"2\"\n",
        "prob += x4 + x5 == x1 + x2, \"3\"\n",
        "prob.writeLP(\"Rezystory.lp\")\n",
        "prob.solve()\n",
        "print(\"Status:\", LpStatus[prob.status])\n",
        "for v in prob.variables():\n",
        "    print(v.name, \"=\", v.varValue)\n",
        "print(\"Minimalne straty mocy=\", value(prob.objective)/1000)"
      ],
      "execution_count": 92,
      "outputs": [
        {
          "output_type": "stream",
          "text": [
            "Status: Optimal\n",
            "I1 = 3.0\n",
            "I2 = 1.0\n",
            "I3 = 2.0\n",
            "I4 = 1.0\n",
            "I5 = 3.0\n",
            "Minimalne straty mocy= 0.052\n"
          ],
          "name": "stdout"
        }
      ]
    },
    {
      "cell_type": "code",
      "metadata": {
        "id": "rqc4afR8lXZD",
        "outputId": "a985afe2-3ce2-4fef-bf2a-d17cffc1c4e6",
        "colab": {
          "base_uri": "https://localhost:8080/"
        }
      },
      "source": [
        "prob = LpProblem(\"Rezystor\",LpMaximize)\n",
        "x1=LpVariable(\"I1\")\n",
        "x2=LpVariable(\"I2\")\n",
        "x3=LpVariable(\"I3\")\n",
        "x4=LpVariable(\"I4\")\n",
        "x5=LpVariable(\"I5\")\n",
        "prob += x1 + x2, \"maksymalny prąd\"\n",
        "prob += 8*x1 == 6*x2, \"Napięcie na R1 i R2\"\n",
        "prob += x1 + x2 == x3, \"2\"\n",
        "prob += x3 == x4 + x5, \"3\"\n",
        "prob += 10*x4 == 8*x5, \"Napięcie na R4 i R5\"\n",
        "prob += x1 <= 2, \"5\"\n",
        "prob += x2 <= 3, \"6\"\n",
        "prob += x3 <= 4, \"7\"\n",
        "prob += x4 <= 2, \"8\"\n",
        "prob += x5 <= 2, \"9\"\n",
        "prob.writeLP(\"Rezystor.lp\")\n",
        "prob.solve()\n",
        "print(\"Status:\", LpStatus[prob.status])\n",
        "for v in prob.variables():\n",
        "    print(v.name, \"=\", v.varValue)\n",
        "print(\"Maksymalny prąd =\", value(prob.objective))"
      ],
      "execution_count": 90,
      "outputs": [
        {
          "output_type": "stream",
          "text": [
            "Status: Optimal\n",
            "I1 = 1.5428571\n",
            "I2 = 2.0571429\n",
            "I3 = 3.6\n",
            "I4 = 1.6\n",
            "I5 = 2.0\n",
            "Maksymalny prąd = 3.6\n"
          ],
          "name": "stdout"
        }
      ]
    }
  ]
}