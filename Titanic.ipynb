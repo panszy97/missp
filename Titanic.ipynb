{
  "nbformat": 4,
  "nbformat_minor": 0,
  "metadata": {
    "kernelspec": {
      "name": "python3",
      "display_name": "Python 3",
      "language": "python"
    },
    "language_info": {
      "name": "python",
      "version": "3.7.6",
      "mimetype": "text/x-python",
      "codemirror_mode": {
        "name": "ipython",
        "version": 3
      },
      "pygments_lexer": "ipython3",
      "nbconvert_exporter": "python",
      "file_extension": ".py"
    },
    "colab": {
      "name": "titanic.ipynb",
      "provenance": []
    }
  },
  "cells": [
    {
      "cell_type": "markdown",
      "metadata": {
        "id": "n2AWTyAdGze1"
      },
      "source": [
        "**Cel projektu**\n",
        "\n",
        "Celem przeprowadzonego ćwiczenia było osiągnięcie jak najlepszego wyniku w konkursie Kaggle. W ramach konkursu trzeba przygotować plik w tkórym zawarte są informacje na temat pasażerów Titanica - czy przeżył czy nie. Na wstępie otrzymujemy dwa pliki z danymi.  Plik train.csv zawiera dane pasażerów takie jak wiek, tytuł, ilość członków rodziny, płeć, oraz informację czy dana osoba przeżyła. W drugim pliku (test.csv) dostępna jest lista innych pasażerów, jednak bez informacji czy przeżyli. Używając danych z pliku train.csv należy przeprowadzić proces uczenia maszynowego w celu określenia, którym pasażerom z pliku test.csv udało się przetrwać katastrofę statku. W celu osiągnięcia jak najlepszego wyniku zostały przeprowadzona następująca analiza i proces uczenia maszynowego:"
      ]
    },
    {
      "cell_type": "code",
      "metadata": {
        "_uuid": "8f2839f25d086af736a60e9eeb907d3b93b6e0e5",
        "_cell_guid": "b1076dfc-b9ad-4769-8c92-a6c4dae69d19",
        "trusted": true,
        "id": "Kh_pFBn7Gze5",
        "outputId": "5d8ea431-c48b-4b9e-dcfd-4da6c6548f61"
      },
      "source": [
        "# This Python 3 environment comes with many helpful analytics libraries installed\n",
        "# It is defined by the kaggle/python Docker image: https://github.com/kaggle/docker-python\n",
        "# For example, here's several helpful packages to load\n",
        "\n",
        "import numpy as np # linear algebra\n",
        "import pandas as pd # data processing, CSV file I/O (e.g. pd.read_csv)\n",
        "import seaborn as sns #import biblioteki używanej do wizualizacji danych\n",
        "import matplotlib.pyplot as plt\n",
        "# Input data files are available in the read-only \"../input/\" directory\n",
        "# For example, running this (by clicking run or pressing Shift+Enter) will list all files under the input directory\n",
        "\n",
        "import os\n",
        "for dirname, _, filenames in os.walk('/kaggle/input'):\n",
        "    for filename in filenames:\n",
        "        print(os.path.join(dirname, filename))\n",
        "\n",
        "# You can write up to 20GB to the current directory (/kaggle/working/) that gets preserved as output when you create a version using \"Save & Run All\" \n",
        "# You can also write temporary files to /kaggle/temp/, but they won't be saved outside of the current session"
      ],
      "execution_count": null,
      "outputs": [
        {
          "output_type": "stream",
          "text": [
            "/kaggle/input/titanic/train.csv\n",
            "/kaggle/input/titanic/test.csv\n",
            "/kaggle/input/titanic/gender_submission.csv\n"
          ],
          "name": "stdout"
        }
      ]
    },
    {
      "cell_type": "code",
      "metadata": {
        "_uuid": "d629ff2d2480ee46fbb7e2d37f6b5fab8052498a",
        "_cell_guid": "79c7e3d0-c299-4dcb-8224-4455121ee9b0",
        "trusted": true,
        "id": "LHnNS4LNGze7",
        "outputId": "33592c6e-4424-4d79-a9de-288761666c33"
      },
      "source": [
        "train_data = pd.read_csv(\"/kaggle/input/titanic/train.csv\") #pobranie danych z pliku train.csv \n",
        "train_data.head()"
      ],
      "execution_count": null,
      "outputs": [
        {
          "output_type": "execute_result",
          "data": {
            "text/plain": [
              "   PassengerId  Survived  Pclass  \\\n",
              "0            1         0       3   \n",
              "1            2         1       1   \n",
              "2            3         1       3   \n",
              "3            4         1       1   \n",
              "4            5         0       3   \n",
              "\n",
              "                                                Name     Sex   Age  SibSp  \\\n",
              "0                            Braund, Mr. Owen Harris    male  22.0      1   \n",
              "1  Cumings, Mrs. John Bradley (Florence Briggs Th...  female  38.0      1   \n",
              "2                             Heikkinen, Miss. Laina  female  26.0      0   \n",
              "3       Futrelle, Mrs. Jacques Heath (Lily May Peel)  female  35.0      1   \n",
              "4                           Allen, Mr. William Henry    male  35.0      0   \n",
              "\n",
              "   Parch            Ticket     Fare Cabin Embarked  \n",
              "0      0         A/5 21171   7.2500   NaN        S  \n",
              "1      0          PC 17599  71.2833   C85        C  \n",
              "2      0  STON/O2. 3101282   7.9250   NaN        S  \n",
              "3      0            113803  53.1000  C123        S  \n",
              "4      0            373450   8.0500   NaN        S  "
            ],
            "text/html": [
              "<div>\n",
              "<style scoped>\n",
              "    .dataframe tbody tr th:only-of-type {\n",
              "        vertical-align: middle;\n",
              "    }\n",
              "\n",
              "    .dataframe tbody tr th {\n",
              "        vertical-align: top;\n",
              "    }\n",
              "\n",
              "    .dataframe thead th {\n",
              "        text-align: right;\n",
              "    }\n",
              "</style>\n",
              "<table border=\"1\" class=\"dataframe\">\n",
              "  <thead>\n",
              "    <tr style=\"text-align: right;\">\n",
              "      <th></th>\n",
              "      <th>PassengerId</th>\n",
              "      <th>Survived</th>\n",
              "      <th>Pclass</th>\n",
              "      <th>Name</th>\n",
              "      <th>Sex</th>\n",
              "      <th>Age</th>\n",
              "      <th>SibSp</th>\n",
              "      <th>Parch</th>\n",
              "      <th>Ticket</th>\n",
              "      <th>Fare</th>\n",
              "      <th>Cabin</th>\n",
              "      <th>Embarked</th>\n",
              "    </tr>\n",
              "  </thead>\n",
              "  <tbody>\n",
              "    <tr>\n",
              "      <th>0</th>\n",
              "      <td>1</td>\n",
              "      <td>0</td>\n",
              "      <td>3</td>\n",
              "      <td>Braund, Mr. Owen Harris</td>\n",
              "      <td>male</td>\n",
              "      <td>22.0</td>\n",
              "      <td>1</td>\n",
              "      <td>0</td>\n",
              "      <td>A/5 21171</td>\n",
              "      <td>7.2500</td>\n",
              "      <td>NaN</td>\n",
              "      <td>S</td>\n",
              "    </tr>\n",
              "    <tr>\n",
              "      <th>1</th>\n",
              "      <td>2</td>\n",
              "      <td>1</td>\n",
              "      <td>1</td>\n",
              "      <td>Cumings, Mrs. John Bradley (Florence Briggs Th...</td>\n",
              "      <td>female</td>\n",
              "      <td>38.0</td>\n",
              "      <td>1</td>\n",
              "      <td>0</td>\n",
              "      <td>PC 17599</td>\n",
              "      <td>71.2833</td>\n",
              "      <td>C85</td>\n",
              "      <td>C</td>\n",
              "    </tr>\n",
              "    <tr>\n",
              "      <th>2</th>\n",
              "      <td>3</td>\n",
              "      <td>1</td>\n",
              "      <td>3</td>\n",
              "      <td>Heikkinen, Miss. Laina</td>\n",
              "      <td>female</td>\n",
              "      <td>26.0</td>\n",
              "      <td>0</td>\n",
              "      <td>0</td>\n",
              "      <td>STON/O2. 3101282</td>\n",
              "      <td>7.9250</td>\n",
              "      <td>NaN</td>\n",
              "      <td>S</td>\n",
              "    </tr>\n",
              "    <tr>\n",
              "      <th>3</th>\n",
              "      <td>4</td>\n",
              "      <td>1</td>\n",
              "      <td>1</td>\n",
              "      <td>Futrelle, Mrs. Jacques Heath (Lily May Peel)</td>\n",
              "      <td>female</td>\n",
              "      <td>35.0</td>\n",
              "      <td>1</td>\n",
              "      <td>0</td>\n",
              "      <td>113803</td>\n",
              "      <td>53.1000</td>\n",
              "      <td>C123</td>\n",
              "      <td>S</td>\n",
              "    </tr>\n",
              "    <tr>\n",
              "      <th>4</th>\n",
              "      <td>5</td>\n",
              "      <td>0</td>\n",
              "      <td>3</td>\n",
              "      <td>Allen, Mr. William Henry</td>\n",
              "      <td>male</td>\n",
              "      <td>35.0</td>\n",
              "      <td>0</td>\n",
              "      <td>0</td>\n",
              "      <td>373450</td>\n",
              "      <td>8.0500</td>\n",
              "      <td>NaN</td>\n",
              "      <td>S</td>\n",
              "    </tr>\n",
              "  </tbody>\n",
              "</table>\n",
              "</div>"
            ]
          },
          "metadata": {
            "tags": []
          },
          "execution_count": 2
        }
      ]
    },
    {
      "cell_type": "markdown",
      "metadata": {
        "id": "PiU1SUeCGze8"
      },
      "source": [
        "W pliku train dostępne jest wiele danych na temat pasażerów."
      ]
    },
    {
      "cell_type": "code",
      "metadata": {
        "trusted": true,
        "id": "T8VbghaVGze8",
        "outputId": "a16e7bee-3eca-40c0-b750-23b7a1718d51"
      },
      "source": [
        "train_data.columns #sprawdzenie jakie kolumny znajdują się w pliku train.csv"
      ],
      "execution_count": null,
      "outputs": [
        {
          "output_type": "execute_result",
          "data": {
            "text/plain": [
              "Index(['PassengerId', 'Survived', 'Pclass', 'Name', 'Sex', 'Age', 'SibSp',\n",
              "       'Parch', 'Ticket', 'Fare', 'Cabin', 'Embarked'],\n",
              "      dtype='object')"
            ]
          },
          "metadata": {
            "tags": []
          },
          "execution_count": 3
        }
      ]
    },
    {
      "cell_type": "code",
      "metadata": {
        "trusted": true,
        "id": "xKN_LbXxGze9",
        "outputId": "e17dca69-c751-4939-c08c-05ce0afebfa6"
      },
      "source": [
        "test_data = pd.read_csv(\"/kaggle/input/titanic/test.csv\") #pobranie danych  pliku test.csv\n",
        "test_data.head()"
      ],
      "execution_count": null,
      "outputs": [
        {
          "output_type": "execute_result",
          "data": {
            "text/plain": [
              "   PassengerId  Pclass                                          Name     Sex  \\\n",
              "0          892       3                              Kelly, Mr. James    male   \n",
              "1          893       3              Wilkes, Mrs. James (Ellen Needs)  female   \n",
              "2          894       2                     Myles, Mr. Thomas Francis    male   \n",
              "3          895       3                              Wirz, Mr. Albert    male   \n",
              "4          896       3  Hirvonen, Mrs. Alexander (Helga E Lindqvist)  female   \n",
              "\n",
              "    Age  SibSp  Parch   Ticket     Fare Cabin Embarked  \n",
              "0  34.5      0      0   330911   7.8292   NaN        Q  \n",
              "1  47.0      1      0   363272   7.0000   NaN        S  \n",
              "2  62.0      0      0   240276   9.6875   NaN        Q  \n",
              "3  27.0      0      0   315154   8.6625   NaN        S  \n",
              "4  22.0      1      1  3101298  12.2875   NaN        S  "
            ],
            "text/html": [
              "<div>\n",
              "<style scoped>\n",
              "    .dataframe tbody tr th:only-of-type {\n",
              "        vertical-align: middle;\n",
              "    }\n",
              "\n",
              "    .dataframe tbody tr th {\n",
              "        vertical-align: top;\n",
              "    }\n",
              "\n",
              "    .dataframe thead th {\n",
              "        text-align: right;\n",
              "    }\n",
              "</style>\n",
              "<table border=\"1\" class=\"dataframe\">\n",
              "  <thead>\n",
              "    <tr style=\"text-align: right;\">\n",
              "      <th></th>\n",
              "      <th>PassengerId</th>\n",
              "      <th>Pclass</th>\n",
              "      <th>Name</th>\n",
              "      <th>Sex</th>\n",
              "      <th>Age</th>\n",
              "      <th>SibSp</th>\n",
              "      <th>Parch</th>\n",
              "      <th>Ticket</th>\n",
              "      <th>Fare</th>\n",
              "      <th>Cabin</th>\n",
              "      <th>Embarked</th>\n",
              "    </tr>\n",
              "  </thead>\n",
              "  <tbody>\n",
              "    <tr>\n",
              "      <th>0</th>\n",
              "      <td>892</td>\n",
              "      <td>3</td>\n",
              "      <td>Kelly, Mr. James</td>\n",
              "      <td>male</td>\n",
              "      <td>34.5</td>\n",
              "      <td>0</td>\n",
              "      <td>0</td>\n",
              "      <td>330911</td>\n",
              "      <td>7.8292</td>\n",
              "      <td>NaN</td>\n",
              "      <td>Q</td>\n",
              "    </tr>\n",
              "    <tr>\n",
              "      <th>1</th>\n",
              "      <td>893</td>\n",
              "      <td>3</td>\n",
              "      <td>Wilkes, Mrs. James (Ellen Needs)</td>\n",
              "      <td>female</td>\n",
              "      <td>47.0</td>\n",
              "      <td>1</td>\n",
              "      <td>0</td>\n",
              "      <td>363272</td>\n",
              "      <td>7.0000</td>\n",
              "      <td>NaN</td>\n",
              "      <td>S</td>\n",
              "    </tr>\n",
              "    <tr>\n",
              "      <th>2</th>\n",
              "      <td>894</td>\n",
              "      <td>2</td>\n",
              "      <td>Myles, Mr. Thomas Francis</td>\n",
              "      <td>male</td>\n",
              "      <td>62.0</td>\n",
              "      <td>0</td>\n",
              "      <td>0</td>\n",
              "      <td>240276</td>\n",
              "      <td>9.6875</td>\n",
              "      <td>NaN</td>\n",
              "      <td>Q</td>\n",
              "    </tr>\n",
              "    <tr>\n",
              "      <th>3</th>\n",
              "      <td>895</td>\n",
              "      <td>3</td>\n",
              "      <td>Wirz, Mr. Albert</td>\n",
              "      <td>male</td>\n",
              "      <td>27.0</td>\n",
              "      <td>0</td>\n",
              "      <td>0</td>\n",
              "      <td>315154</td>\n",
              "      <td>8.6625</td>\n",
              "      <td>NaN</td>\n",
              "      <td>S</td>\n",
              "    </tr>\n",
              "    <tr>\n",
              "      <th>4</th>\n",
              "      <td>896</td>\n",
              "      <td>3</td>\n",
              "      <td>Hirvonen, Mrs. Alexander (Helga E Lindqvist)</td>\n",
              "      <td>female</td>\n",
              "      <td>22.0</td>\n",
              "      <td>1</td>\n",
              "      <td>1</td>\n",
              "      <td>3101298</td>\n",
              "      <td>12.2875</td>\n",
              "      <td>NaN</td>\n",
              "      <td>S</td>\n",
              "    </tr>\n",
              "  </tbody>\n",
              "</table>\n",
              "</div>"
            ]
          },
          "metadata": {
            "tags": []
          },
          "execution_count": 4
        }
      ]
    },
    {
      "cell_type": "code",
      "metadata": {
        "trusted": true,
        "id": "ORES7p4wGze9",
        "outputId": "b0a181fa-7447-4f62-ff3f-63ffd0bc4977"
      },
      "source": [
        "test_data.columns #sprawdzenie jakie kolumny znajdują się w pliku test.csv"
      ],
      "execution_count": null,
      "outputs": [
        {
          "output_type": "execute_result",
          "data": {
            "text/plain": [
              "Index(['PassengerId', 'Pclass', 'Name', 'Sex', 'Age', 'SibSp', 'Parch',\n",
              "       'Ticket', 'Fare', 'Cabin', 'Embarked'],\n",
              "      dtype='object')"
            ]
          },
          "metadata": {
            "tags": []
          },
          "execution_count": 5
        }
      ]
    },
    {
      "cell_type": "markdown",
      "metadata": {
        "id": "gxDFN_ZVGze-"
      },
      "source": [
        "W pliku test.csv nie ma kolumny 'Survived', która informuje o tym czy dany pasażer przeżył."
      ]
    },
    {
      "cell_type": "code",
      "metadata": {
        "trusted": true,
        "id": "emypamSKGze-",
        "outputId": "4d519977-7692-4e5a-e7c9-9600efba47b6"
      },
      "source": [
        "train_data.isnull().sum() #sprawdzenie ile jest wartości nieokreślonych w poszczególnych kolumnach"
      ],
      "execution_count": null,
      "outputs": [
        {
          "output_type": "execute_result",
          "data": {
            "text/plain": [
              "PassengerId      0\n",
              "Survived         0\n",
              "Pclass           0\n",
              "Name             0\n",
              "Sex              0\n",
              "Age            177\n",
              "SibSp            0\n",
              "Parch            0\n",
              "Ticket           0\n",
              "Fare             0\n",
              "Cabin          687\n",
              "Embarked         2\n",
              "dtype: int64"
            ]
          },
          "metadata": {
            "tags": []
          },
          "execution_count": 6
        }
      ]
    },
    {
      "cell_type": "code",
      "metadata": {
        "trusted": true,
        "id": "tIH13785Gze_"
      },
      "source": [
        "train_data[\"Fare\"] = train_data[\"Fare\"].fillna(1) #zastosowanie funkcji fillna, która zamienia nieokreślone wartości w poszczególnych przypadkach argumentem (w naszym przypadku -1)\n",
        "train_data[\"Age\"] = train_data[\"Age\"].fillna(1)\n"
      ],
      "execution_count": null,
      "outputs": []
    },
    {
      "cell_type": "markdown",
      "metadata": {
        "id": "TSCk1o57GzfA"
      },
      "source": [
        "Nieokreślone wartości zastąpiłem wartością 1. W kolumnie wiek jest dużo nieokreślonych wartości zatem jest to duże uproszczenie. Jednak w dalszej częsci analizy pasażerowie są przydzielani do grup wiekowych i duża liczba pasażerów należy do grupy 1, więc nie powinno mieć to baedzo negatywnego wpływu na końcowy wynik. Wartości nieokreślonych w kolumnie Cabin nie zamieniam na inne wartości, ponieważ jest ich za dużo i nie będę ich brał pod uwagę w dalszej analizie."
      ]
    },
    {
      "cell_type": "code",
      "metadata": {
        "trusted": true,
        "id": "iyHZH7JbGzfB",
        "outputId": "7ce04124-547e-4635-d552-7d17ea1172f9"
      },
      "source": [
        "test_data.isnull().sum() #sprawdzenie ile jest wartości nieokreślonych w poszczególnych kolumnach"
      ],
      "execution_count": null,
      "outputs": [
        {
          "output_type": "execute_result",
          "data": {
            "text/plain": [
              "PassengerId      0\n",
              "Pclass           0\n",
              "Name             0\n",
              "Sex              0\n",
              "Age             86\n",
              "SibSp            0\n",
              "Parch            0\n",
              "Ticket           0\n",
              "Fare             1\n",
              "Cabin          327\n",
              "Embarked         0\n",
              "dtype: int64"
            ]
          },
          "metadata": {
            "tags": []
          },
          "execution_count": 8
        }
      ]
    },
    {
      "cell_type": "code",
      "metadata": {
        "trusted": true,
        "id": "_PoFHCNLGzfD"
      },
      "source": [
        "test_data[\"Fare\"] = test_data[\"Fare\"].fillna(1)\n",
        "test_data[\"Age\"] = test_data[\"Age\"].fillna(1)"
      ],
      "execution_count": null,
      "outputs": []
    },
    {
      "cell_type": "code",
      "metadata": {
        "trusted": true,
        "id": "WE9dl9p2GzfD",
        "outputId": "eced319f-3b1a-40f9-dfb7-90e8de8cc95d"
      },
      "source": [
        "women = train_data.loc[train_data.Sex == 'female'][\"Survived\"] #sprawdzenie jaki procent kobiet przeżyło katastrofę\n",
        "rate_women = sum(women)/len(women)*100\n",
        "\n",
        "print(\"% kobiet, które przeżyły:\", rate_women)"
      ],
      "execution_count": null,
      "outputs": [
        {
          "output_type": "stream",
          "text": [
            "% kobiet, które przeżyły: 74.20382165605095\n"
          ],
          "name": "stdout"
        }
      ]
    },
    {
      "cell_type": "code",
      "metadata": {
        "trusted": true,
        "id": "8S_V6cPDGzfE",
        "outputId": "f0e2bbbf-5182-4a71-e683-0bb0927238ed"
      },
      "source": [
        "men = train_data.loc[train_data.Sex == 'male'][\"Survived\"] #sprawdzenie jaki procent mężczyzn przeżyło katastrofę\n",
        "rate_men = sum(men)/len(men)*100\n",
        "\n",
        "print(\"% mężczyzn, którzy przeżyli:\", rate_men)"
      ],
      "execution_count": null,
      "outputs": [
        {
          "output_type": "stream",
          "text": [
            "% mężczyzn, którzy przeżyli: 18.890814558058924\n"
          ],
          "name": "stdout"
        }
      ]
    },
    {
      "cell_type": "markdown",
      "metadata": {
        "id": "WoxJfH4mGzfE"
      },
      "source": [
        "Jak można odczytać zdecydowanie większy procent kobiet przetrwał katastrofę niż mężczyzn."
      ]
    },
    {
      "cell_type": "code",
      "metadata": {
        "trusted": true,
        "id": "QY46ic7tGzfE",
        "outputId": "2d2dad35-d2db-408e-ad98-c6c9053dc5c2"
      },
      "source": [
        " sns.catplot(x='Sex',y='Survived',data=train_data,kind='bar') #wykres procentowy osób, które przeżyły katastrofę w zależności od płci"
      ],
      "execution_count": null,
      "outputs": [
        {
          "output_type": "execute_result",
          "data": {
            "text/plain": [
              "<seaborn.axisgrid.FacetGrid at 0x7fa9fee92cd0>"
            ]
          },
          "metadata": {
            "tags": []
          },
          "execution_count": 12
        },
        {
          "output_type": "display_data",
          "data": {
            "text/plain": [
              "<Figure size 360x360 with 1 Axes>"
            ],
            "image/png": "[encoded data removed]"
          },
          "metadata": {
            "tags": [],
            "needs_background": "light"
          }
        }
      ]
    },
    {
      "cell_type": "code",
      "metadata": {
        "trusted": true,
        "id": "SIscQNxIGzfF",
        "outputId": "1f4ecfb0-8f7b-4cc8-86db-16a6eb6f0ca2"
      },
      "source": [
        "sns.catplot(x='Pclass',y='Survived',data=train_data,kind='bar')  #wykres procentowy osób, które przeżyły katastrofę w zależności od klasy w jakiej podróżowali"
      ],
      "execution_count": null,
      "outputs": [
        {
          "output_type": "execute_result",
          "data": {
            "text/plain": [
              "<seaborn.axisgrid.FacetGrid at 0x7fa9fec980d0>"
            ]
          },
          "metadata": {
            "tags": []
          },
          "execution_count": 13
        },
        {
          "output_type": "display_data",
          "data": {
            "text/plain": [
              "<Figure size 360x360 with 1 Axes>"
            ],
            "image/png": "[encoded data removed]"
          },
          "metadata": {
            "tags": [],
            "needs_background": "light"
          }
        }
      ]
    },
    {
      "cell_type": "markdown",
      "metadata": {
        "id": "-pp9Wth4GzfF"
      },
      "source": [
        "Zdecydowanie większy procent osób podróżujących w klasie 1 przeżyło w porównaniu z klasą 3."
      ]
    },
    {
      "cell_type": "code",
      "metadata": {
        "trusted": true,
        "id": "-CKqJSdrGzfG",
        "outputId": "cf6df2d4-b9e9-48a3-aed0-e34156ac358b"
      },
      "source": [
        "sns.catplot(x='SibSp',y='Survived',data=train_data,kind='bar')  #wykres procentowy osób, które przeżyły katastrofę w zależności od ilości rodzeństwa na pokładzie"
      ],
      "execution_count": null,
      "outputs": [
        {
          "output_type": "execute_result",
          "data": {
            "text/plain": [
              "<seaborn.axisgrid.FacetGrid at 0x7fa9febddf50>"
            ]
          },
          "metadata": {
            "tags": []
          },
          "execution_count": 14
        },
        {
          "output_type": "display_data",
          "data": {
            "text/plain": [
              "<Figure size 360x360 with 1 Axes>"
            ],
            "image/png": "[encoded data removed]"
          },
          "metadata": {
            "tags": [],
            "needs_background": "light"
          }
        }
      ]
    },
    {
      "cell_type": "markdown",
      "metadata": {
        "id": "vTqHBm1bGzfG"
      },
      "source": [
        "Można zauważyć, że osoby, które posiadały 5 lub 8 rodzeństwa mają 0% szans na przeżycie."
      ]
    },
    {
      "cell_type": "code",
      "metadata": {
        "trusted": true,
        "id": "WafHxFHnGzfG",
        "outputId": "f27b0706-13d1-4580-e85a-ac0a780b7d1a"
      },
      "source": [
        "sns.catplot(x='Parch',y='Survived',data=train_data,kind='bar')"
      ],
      "execution_count": null,
      "outputs": [
        {
          "output_type": "execute_result",
          "data": {
            "text/plain": [
              "<seaborn.axisgrid.FacetGrid at 0x7fa9feb9fad0>"
            ]
          },
          "metadata": {
            "tags": []
          },
          "execution_count": 15
        },
        {
          "output_type": "display_data",
          "data": {
            "text/plain": [
              "<Figure size 360x360 with 1 Axes>"
            ],
            "image/png": "[encoded data removed]"
          },
          "metadata": {
            "tags": [],
            "needs_background": "light"
          }
        }
      ]
    },
    {
      "cell_type": "code",
      "metadata": {
        "trusted": true,
        "id": "R1-9h4HKGzfH",
        "outputId": "93aaf3c1-5910-48ca-f919-5e0d6c331fc2"
      },
      "source": [
        "sns.catplot(x='Embarked',y='Survived',data=train_data,kind='bar')  #wykres procentowy osób, które przeżyły katastrofę w zależności od parametru embarked"
      ],
      "execution_count": null,
      "outputs": [
        {
          "output_type": "execute_result",
          "data": {
            "text/plain": [
              "<seaborn.axisgrid.FacetGrid at 0x7fa9feae4c50>"
            ]
          },
          "metadata": {
            "tags": []
          },
          "execution_count": 16
        },
        {
          "output_type": "display_data",
          "data": {
            "text/plain": [
              "<Figure size 360x360 with 1 Axes>"
            ],
            "image/png": "[encoded data removed]"
          },
          "metadata": {
            "tags": [],
            "needs_background": "light"
          }
        }
      ]
    },
    {
      "cell_type": "code",
      "metadata": {
        "trusted": true,
        "id": "0JYLhtjZGzfH",
        "outputId": "cb153e01-71bc-4496-8c9d-eddefcbc4293"
      },
      "source": [
        "g = sns.FacetGrid(train_data, col='Survived') #wykresy ilości osób, które przeżyły i nie przeżyły w zależności od wieku\n",
        "g.map(plt.hist, 'Age', bins=20)"
      ],
      "execution_count": null,
      "outputs": [
        {
          "output_type": "execute_result",
          "data": {
            "text/plain": [
              "<seaborn.axisgrid.FacetGrid at 0x7fa9fea331d0>"
            ]
          },
          "metadata": {
            "tags": []
          },
          "execution_count": 17
        },
        {
          "output_type": "display_data",
          "data": {
            "text/plain": [
              "<Figure size 432x216 with 2 Axes>"
            ],
            "image/png": "[encoded data removed]"
          },
          "metadata": {
            "tags": [],
            "needs_background": "light"
          }
        }
      ]
    },
    {
      "cell_type": "markdown",
      "metadata": {
        "id": "N09c2QLCGzfI"
      },
      "source": [
        "Największą grupę osób na obu wykresach stanowią niemowlęta, ponieważ zostały tam przypisane osoby, które nie posiadały danych o aktualnym wieku. Następnie najwięcej osób które nie przetrwały były w grupie wiekowej 20 - 40 lat. Identyczna zależność istnieje dla grupy osób, które przeżyły."
      ]
    },
    {
      "cell_type": "code",
      "metadata": {
        "trusted": true,
        "id": "Mx2aLYebGzfI",
        "outputId": "8ee7f8f7-83ba-4a8b-f2b0-474d6369523c"
      },
      "source": [
        "grid = sns.FacetGrid(train_data, col='Embarked')\n",
        "grid.map(sns.pointplot, 'Pclass', 'Survived', 'Sex', palette='bright')\n",
        "grid.add_legend()"
      ],
      "execution_count": null,
      "outputs": [
        {
          "output_type": "stream",
          "text": [
            "/opt/conda/lib/python3.7/site-packages/seaborn/axisgrid.py:728: UserWarning: Using the pointplot function without specifying `order` is likely to produce an incorrect plot.\n",
            "  warnings.warn(warning)\n",
            "/opt/conda/lib/python3.7/site-packages/seaborn/axisgrid.py:733: UserWarning: Using the pointplot function without specifying `hue_order` is likely to produce an incorrect plot.\n",
            "  warnings.warn(warning)\n"
          ],
          "name": "stderr"
        },
        {
          "output_type": "execute_result",
          "data": {
            "text/plain": [
              "<seaborn.axisgrid.FacetGrid at 0x7fa9fe954c90>"
            ]
          },
          "metadata": {
            "tags": []
          },
          "execution_count": 18
        },
        {
          "output_type": "display_data",
          "data": {
            "text/plain": [
              "<Figure size 718.5x216 with 3 Axes>"
            ],
            "image/png": "[encoded data removed]"
          },
          "metadata": {
            "tags": [],
            "needs_background": "light"
          }
        }
      ]
    },
    {
      "cell_type": "markdown",
      "metadata": {
        "id": "bp5VnmtkGzfJ"
      },
      "source": [
        "Wykresy przedstawiają procent osób które przeżyły w zależności od parametru Embarked, w zależności od klasy w jakiej podróżowały oraz z podziałem na płeć. Można zaobserwować że mężczyżni z parametrami embarked S oraz Q mają małe szanse na przeżycie niezależnie od klasy w jakiej podróożowali. Dużą szansę na przetrwanie mają za to kobiety z embarked S i Q oraz z 1 i 2 klasy"
      ]
    },
    {
      "cell_type": "code",
      "metadata": {
        "trusted": true,
        "id": "ESgadBN-GzfJ"
      },
      "source": [
        "train = train_data.drop(['Ticket', 'Cabin'],  axis=1) #utworzenie nowej tablicy zawierającej dane z train_data bez kolumn: Ticket i Cabin\n",
        "test = test_data.drop(['Ticket', 'Cabin'], axis=1)\n",
        "train_test = [train, test]"
      ],
      "execution_count": null,
      "outputs": []
    },
    {
      "cell_type": "markdown",
      "metadata": {
        "id": "VWbA8JYbGzfK"
      },
      "source": [
        "Kolumny Ticket oraz Cabin odrzuciłem, ponieważ w kolumnie Cabin jest dużo nieokreślonych wartości, natomiast kolumna Ticket jest nieprzydatna w analizie. "
      ]
    },
    {
      "cell_type": "code",
      "metadata": {
        "trusted": true,
        "id": "wcgZxEPMGzfK",
        "outputId": "f5467ccf-90ca-40ed-f2b7-be9423cb5be6"
      },
      "source": [
        "for dataset in train_test:\n",
        "    dataset['Title'] = dataset.Name.str.extract(' ([A-Za-z]+)\\.', expand=False) #stworzenie nowej kolumny która przechowuje informacje na temat tytułu pasażera wyłuskanego z kolumny Name\n",
        "\n",
        "pd.crosstab(train['Title'], train['Sex']) #wypisanie ile jest osób z danym tytułem, danej płci"
      ],
      "execution_count": null,
      "outputs": [
        {
          "output_type": "execute_result",
          "data": {
            "text/plain": [
              "Sex       female  male\n",
              "Title                 \n",
              "Capt           0     1\n",
              "Col            0     2\n",
              "Countess       1     0\n",
              "Don            0     1\n",
              "Dr             1     6\n",
              "Jonkheer       0     1\n",
              "Lady           1     0\n",
              "Major          0     2\n",
              "Master         0    40\n",
              "Miss         182     0\n",
              "Mlle           2     0\n",
              "Mme            1     0\n",
              "Mr             0   517\n",
              "Mrs          125     0\n",
              "Ms             1     0\n",
              "Rev            0     6\n",
              "Sir            0     1"
            ],
            "text/html": [
              "<div>\n",
              "<style scoped>\n",
              "    .dataframe tbody tr th:only-of-type {\n",
              "        vertical-align: middle;\n",
              "    }\n",
              "\n",
              "    .dataframe tbody tr th {\n",
              "        vertical-align: top;\n",
              "    }\n",
              "\n",
              "    .dataframe thead th {\n",
              "        text-align: right;\n",
              "    }\n",
              "</style>\n",
              "<table border=\"1\" class=\"dataframe\">\n",
              "  <thead>\n",
              "    <tr style=\"text-align: right;\">\n",
              "      <th>Sex</th>\n",
              "      <th>female</th>\n",
              "      <th>male</th>\n",
              "    </tr>\n",
              "    <tr>\n",
              "      <th>Title</th>\n",
              "      <th></th>\n",
              "      <th></th>\n",
              "    </tr>\n",
              "  </thead>\n",
              "  <tbody>\n",
              "    <tr>\n",
              "      <th>Capt</th>\n",
              "      <td>0</td>\n",
              "      <td>1</td>\n",
              "    </tr>\n",
              "    <tr>\n",
              "      <th>Col</th>\n",
              "      <td>0</td>\n",
              "      <td>2</td>\n",
              "    </tr>\n",
              "    <tr>\n",
              "      <th>Countess</th>\n",
              "      <td>1</td>\n",
              "      <td>0</td>\n",
              "    </tr>\n",
              "    <tr>\n",
              "      <th>Don</th>\n",
              "      <td>0</td>\n",
              "      <td>1</td>\n",
              "    </tr>\n",
              "    <tr>\n",
              "      <th>Dr</th>\n",
              "      <td>1</td>\n",
              "      <td>6</td>\n",
              "    </tr>\n",
              "    <tr>\n",
              "      <th>Jonkheer</th>\n",
              "      <td>0</td>\n",
              "      <td>1</td>\n",
              "    </tr>\n",
              "    <tr>\n",
              "      <th>Lady</th>\n",
              "      <td>1</td>\n",
              "      <td>0</td>\n",
              "    </tr>\n",
              "    <tr>\n",
              "      <th>Major</th>\n",
              "      <td>0</td>\n",
              "      <td>2</td>\n",
              "    </tr>\n",
              "    <tr>\n",
              "      <th>Master</th>\n",
              "      <td>0</td>\n",
              "      <td>40</td>\n",
              "    </tr>\n",
              "    <tr>\n",
              "      <th>Miss</th>\n",
              "      <td>182</td>\n",
              "      <td>0</td>\n",
              "    </tr>\n",
              "    <tr>\n",
              "      <th>Mlle</th>\n",
              "      <td>2</td>\n",
              "      <td>0</td>\n",
              "    </tr>\n",
              "    <tr>\n",
              "      <th>Mme</th>\n",
              "      <td>1</td>\n",
              "      <td>0</td>\n",
              "    </tr>\n",
              "    <tr>\n",
              "      <th>Mr</th>\n",
              "      <td>0</td>\n",
              "      <td>517</td>\n",
              "    </tr>\n",
              "    <tr>\n",
              "      <th>Mrs</th>\n",
              "      <td>125</td>\n",
              "      <td>0</td>\n",
              "    </tr>\n",
              "    <tr>\n",
              "      <th>Ms</th>\n",
              "      <td>1</td>\n",
              "      <td>0</td>\n",
              "    </tr>\n",
              "    <tr>\n",
              "      <th>Rev</th>\n",
              "      <td>0</td>\n",
              "      <td>6</td>\n",
              "    </tr>\n",
              "    <tr>\n",
              "      <th>Sir</th>\n",
              "      <td>0</td>\n",
              "      <td>1</td>\n",
              "    </tr>\n",
              "  </tbody>\n",
              "</table>\n",
              "</div>"
            ]
          },
          "metadata": {
            "tags": []
          },
          "execution_count": 20
        }
      ]
    },
    {
      "cell_type": "code",
      "metadata": {
        "trusted": true,
        "id": "ZkyJUR0QGzfL",
        "outputId": "0ba0d13d-2526-479d-ca4c-a55eccc97224"
      },
      "source": [
        "train[['Title', 'Survived']].groupby(['Title'], as_index=False).mean() #określenie %osób, które przetrwały w zależności od posiadanego tytułu"
      ],
      "execution_count": null,
      "outputs": [
        {
          "output_type": "execute_result",
          "data": {
            "text/plain": [
              "       Title  Survived\n",
              "0       Capt  0.000000\n",
              "1        Col  0.500000\n",
              "2   Countess  1.000000\n",
              "3        Don  0.000000\n",
              "4         Dr  0.428571\n",
              "5   Jonkheer  0.000000\n",
              "6       Lady  1.000000\n",
              "7      Major  0.500000\n",
              "8     Master  0.575000\n",
              "9       Miss  0.697802\n",
              "10      Mlle  1.000000\n",
              "11       Mme  1.000000\n",
              "12        Mr  0.156673\n",
              "13       Mrs  0.792000\n",
              "14        Ms  1.000000\n",
              "15       Rev  0.000000\n",
              "16       Sir  1.000000"
            ],
            "text/html": [
              "<div>\n",
              "<style scoped>\n",
              "    .dataframe tbody tr th:only-of-type {\n",
              "        vertical-align: middle;\n",
              "    }\n",
              "\n",
              "    .dataframe tbody tr th {\n",
              "        vertical-align: top;\n",
              "    }\n",
              "\n",
              "    .dataframe thead th {\n",
              "        text-align: right;\n",
              "    }\n",
              "</style>\n",
              "<table border=\"1\" class=\"dataframe\">\n",
              "  <thead>\n",
              "    <tr style=\"text-align: right;\">\n",
              "      <th></th>\n",
              "      <th>Title</th>\n",
              "      <th>Survived</th>\n",
              "    </tr>\n",
              "  </thead>\n",
              "  <tbody>\n",
              "    <tr>\n",
              "      <th>0</th>\n",
              "      <td>Capt</td>\n",
              "      <td>0.000000</td>\n",
              "    </tr>\n",
              "    <tr>\n",
              "      <th>1</th>\n",
              "      <td>Col</td>\n",
              "      <td>0.500000</td>\n",
              "    </tr>\n",
              "    <tr>\n",
              "      <th>2</th>\n",
              "      <td>Countess</td>\n",
              "      <td>1.000000</td>\n",
              "    </tr>\n",
              "    <tr>\n",
              "      <th>3</th>\n",
              "      <td>Don</td>\n",
              "      <td>0.000000</td>\n",
              "    </tr>\n",
              "    <tr>\n",
              "      <th>4</th>\n",
              "      <td>Dr</td>\n",
              "      <td>0.428571</td>\n",
              "    </tr>\n",
              "    <tr>\n",
              "      <th>5</th>\n",
              "      <td>Jonkheer</td>\n",
              "      <td>0.000000</td>\n",
              "    </tr>\n",
              "    <tr>\n",
              "      <th>6</th>\n",
              "      <td>Lady</td>\n",
              "      <td>1.000000</td>\n",
              "    </tr>\n",
              "    <tr>\n",
              "      <th>7</th>\n",
              "      <td>Major</td>\n",
              "      <td>0.500000</td>\n",
              "    </tr>\n",
              "    <tr>\n",
              "      <th>8</th>\n",
              "      <td>Master</td>\n",
              "      <td>0.575000</td>\n",
              "    </tr>\n",
              "    <tr>\n",
              "      <th>9</th>\n",
              "      <td>Miss</td>\n",
              "      <td>0.697802</td>\n",
              "    </tr>\n",
              "    <tr>\n",
              "      <th>10</th>\n",
              "      <td>Mlle</td>\n",
              "      <td>1.000000</td>\n",
              "    </tr>\n",
              "    <tr>\n",
              "      <th>11</th>\n",
              "      <td>Mme</td>\n",
              "      <td>1.000000</td>\n",
              "    </tr>\n",
              "    <tr>\n",
              "      <th>12</th>\n",
              "      <td>Mr</td>\n",
              "      <td>0.156673</td>\n",
              "    </tr>\n",
              "    <tr>\n",
              "      <th>13</th>\n",
              "      <td>Mrs</td>\n",
              "      <td>0.792000</td>\n",
              "    </tr>\n",
              "    <tr>\n",
              "      <th>14</th>\n",
              "      <td>Ms</td>\n",
              "      <td>1.000000</td>\n",
              "    </tr>\n",
              "    <tr>\n",
              "      <th>15</th>\n",
              "      <td>Rev</td>\n",
              "      <td>0.000000</td>\n",
              "    </tr>\n",
              "    <tr>\n",
              "      <th>16</th>\n",
              "      <td>Sir</td>\n",
              "      <td>1.000000</td>\n",
              "    </tr>\n",
              "  </tbody>\n",
              "</table>\n",
              "</div>"
            ]
          },
          "metadata": {
            "tags": []
          },
          "execution_count": 21
        }
      ]
    },
    {
      "cell_type": "markdown",
      "metadata": {
        "id": "JpZhBRnwGzfL"
      },
      "source": [
        "Można zaobserwować, że 100% osób posiadające niektóre tytuły przeżyły. Są także tytułu, których właściciele mają 0% szans na przetrwanie."
      ]
    },
    {
      "cell_type": "code",
      "metadata": {
        "trusted": true,
        "id": "TGrURnXfGzfM",
        "outputId": "37bdd9c1-a30c-4984-e8cf-e74585b4c2fa"
      },
      "source": [
        "zamiana = {\"Sir\" : 1, \"MMe\": 1, \"Mlle\" : 1, \"Lady\" : 1, \"Countess\" : 1, \"Mrs\": 2, \"Miss\": 2, \"Master\" : 3, \"Major\" : 3, \"Dr\" : 3, \"Col\" : 3, \"Mr\" : 4, \"Rev\" : 5, \"Jonkher\" : 5, \"Don\" : 5, \"Capt\": 5}\n",
        "for dataset in train_test:\n",
        "     dataset['Title'] = dataset['Title'].map(zamiana) #zamiana kolumny Title na wartości liczbowe w zależności od posiadanego tytułu \n",
        "train.head()"
      ],
      "execution_count": null,
      "outputs": [
        {
          "output_type": "execute_result",
          "data": {
            "text/plain": [
              "   PassengerId  Survived  Pclass  \\\n",
              "0            1         0       3   \n",
              "1            2         1       1   \n",
              "2            3         1       3   \n",
              "3            4         1       1   \n",
              "4            5         0       3   \n",
              "\n",
              "                                                Name     Sex   Age  SibSp  \\\n",
              "0                            Braund, Mr. Owen Harris    male  22.0      1   \n",
              "1  Cumings, Mrs. John Bradley (Florence Briggs Th...  female  38.0      1   \n",
              "2                             Heikkinen, Miss. Laina  female  26.0      0   \n",
              "3       Futrelle, Mrs. Jacques Heath (Lily May Peel)  female  35.0      1   \n",
              "4                           Allen, Mr. William Henry    male  35.0      0   \n",
              "\n",
              "   Parch     Fare Embarked  Title  \n",
              "0      0   7.2500        S    4.0  \n",
              "1      0  71.2833        C    2.0  \n",
              "2      0   7.9250        S    2.0  \n",
              "3      0  53.1000        S    2.0  \n",
              "4      0   8.0500        S    4.0  "
            ],
            "text/html": [
              "<div>\n",
              "<style scoped>\n",
              "    .dataframe tbody tr th:only-of-type {\n",
              "        vertical-align: middle;\n",
              "    }\n",
              "\n",
              "    .dataframe tbody tr th {\n",
              "        vertical-align: top;\n",
              "    }\n",
              "\n",
              "    .dataframe thead th {\n",
              "        text-align: right;\n",
              "    }\n",
              "</style>\n",
              "<table border=\"1\" class=\"dataframe\">\n",
              "  <thead>\n",
              "    <tr style=\"text-align: right;\">\n",
              "      <th></th>\n",
              "      <th>PassengerId</th>\n",
              "      <th>Survived</th>\n",
              "      <th>Pclass</th>\n",
              "      <th>Name</th>\n",
              "      <th>Sex</th>\n",
              "      <th>Age</th>\n",
              "      <th>SibSp</th>\n",
              "      <th>Parch</th>\n",
              "      <th>Fare</th>\n",
              "      <th>Embarked</th>\n",
              "      <th>Title</th>\n",
              "    </tr>\n",
              "  </thead>\n",
              "  <tbody>\n",
              "    <tr>\n",
              "      <th>0</th>\n",
              "      <td>1</td>\n",
              "      <td>0</td>\n",
              "      <td>3</td>\n",
              "      <td>Braund, Mr. Owen Harris</td>\n",
              "      <td>male</td>\n",
              "      <td>22.0</td>\n",
              "      <td>1</td>\n",
              "      <td>0</td>\n",
              "      <td>7.2500</td>\n",
              "      <td>S</td>\n",
              "      <td>4.0</td>\n",
              "    </tr>\n",
              "    <tr>\n",
              "      <th>1</th>\n",
              "      <td>2</td>\n",
              "      <td>1</td>\n",
              "      <td>1</td>\n",
              "      <td>Cumings, Mrs. John Bradley (Florence Briggs Th...</td>\n",
              "      <td>female</td>\n",
              "      <td>38.0</td>\n",
              "      <td>1</td>\n",
              "      <td>0</td>\n",
              "      <td>71.2833</td>\n",
              "      <td>C</td>\n",
              "      <td>2.0</td>\n",
              "    </tr>\n",
              "    <tr>\n",
              "      <th>2</th>\n",
              "      <td>3</td>\n",
              "      <td>1</td>\n",
              "      <td>3</td>\n",
              "      <td>Heikkinen, Miss. Laina</td>\n",
              "      <td>female</td>\n",
              "      <td>26.0</td>\n",
              "      <td>0</td>\n",
              "      <td>0</td>\n",
              "      <td>7.9250</td>\n",
              "      <td>S</td>\n",
              "      <td>2.0</td>\n",
              "    </tr>\n",
              "    <tr>\n",
              "      <th>3</th>\n",
              "      <td>4</td>\n",
              "      <td>1</td>\n",
              "      <td>1</td>\n",
              "      <td>Futrelle, Mrs. Jacques Heath (Lily May Peel)</td>\n",
              "      <td>female</td>\n",
              "      <td>35.0</td>\n",
              "      <td>1</td>\n",
              "      <td>0</td>\n",
              "      <td>53.1000</td>\n",
              "      <td>S</td>\n",
              "      <td>2.0</td>\n",
              "    </tr>\n",
              "    <tr>\n",
              "      <th>4</th>\n",
              "      <td>5</td>\n",
              "      <td>0</td>\n",
              "      <td>3</td>\n",
              "      <td>Allen, Mr. William Henry</td>\n",
              "      <td>male</td>\n",
              "      <td>35.0</td>\n",
              "      <td>0</td>\n",
              "      <td>0</td>\n",
              "      <td>8.0500</td>\n",
              "      <td>S</td>\n",
              "      <td>4.0</td>\n",
              "    </tr>\n",
              "  </tbody>\n",
              "</table>\n",
              "</div>"
            ]
          },
          "metadata": {
            "tags": []
          },
          "execution_count": 22
        }
      ]
    },
    {
      "cell_type": "markdown",
      "metadata": {
        "id": "bHCaa7M7GzfN"
      },
      "source": [
        "Pasażerowie zostali przydzieleni do poszczególnych grup ze względu na podobny procent szans na przeżycie."
      ]
    },
    {
      "cell_type": "code",
      "metadata": {
        "trusted": true,
        "id": "DZeeCyViGzfO",
        "outputId": "709646cb-b227-4983-c3d6-ac16d5137441"
      },
      "source": [
        "train['Age_1'] = pd.cut(train['Age'], 6) #stworzenie nowej kolumny Age_1 i przypisywanie jej odpowiednich przedziałów powstałych z kolumny Age \n",
        "train[['Age_1', 'Survived']].groupby(['Age_1'], as_index=False).mean().sort_values(by='Age_1', ascending=True) #określenie procentu szans na przeżycie poszczególnych grup wiekowych"
      ],
      "execution_count": null,
      "outputs": [
        {
          "output_type": "execute_result",
          "data": {
            "text/plain": [
              "              Age_1  Survived\n",
              "0    (0.34, 13.683]  0.379032\n",
              "1  (13.683, 26.947]  0.354839\n",
              "2   (26.947, 40.21]  0.428571\n",
              "3   (40.21, 53.473]  0.390000\n",
              "4  (53.473, 66.737]  0.348837\n",
              "5    (66.737, 80.0]  0.142857"
            ],
            "text/html": [
              "<div>\n",
              "<style scoped>\n",
              "    .dataframe tbody tr th:only-of-type {\n",
              "        vertical-align: middle;\n",
              "    }\n",
              "\n",
              "    .dataframe tbody tr th {\n",
              "        vertical-align: top;\n",
              "    }\n",
              "\n",
              "    .dataframe thead th {\n",
              "        text-align: right;\n",
              "    }\n",
              "</style>\n",
              "<table border=\"1\" class=\"dataframe\">\n",
              "  <thead>\n",
              "    <tr style=\"text-align: right;\">\n",
              "      <th></th>\n",
              "      <th>Age_1</th>\n",
              "      <th>Survived</th>\n",
              "    </tr>\n",
              "  </thead>\n",
              "  <tbody>\n",
              "    <tr>\n",
              "      <th>0</th>\n",
              "      <td>(0.34, 13.683]</td>\n",
              "      <td>0.379032</td>\n",
              "    </tr>\n",
              "    <tr>\n",
              "      <th>1</th>\n",
              "      <td>(13.683, 26.947]</td>\n",
              "      <td>0.354839</td>\n",
              "    </tr>\n",
              "    <tr>\n",
              "      <th>2</th>\n",
              "      <td>(26.947, 40.21]</td>\n",
              "      <td>0.428571</td>\n",
              "    </tr>\n",
              "    <tr>\n",
              "      <th>3</th>\n",
              "      <td>(40.21, 53.473]</td>\n",
              "      <td>0.390000</td>\n",
              "    </tr>\n",
              "    <tr>\n",
              "      <th>4</th>\n",
              "      <td>(53.473, 66.737]</td>\n",
              "      <td>0.348837</td>\n",
              "    </tr>\n",
              "    <tr>\n",
              "      <th>5</th>\n",
              "      <td>(66.737, 80.0]</td>\n",
              "      <td>0.142857</td>\n",
              "    </tr>\n",
              "  </tbody>\n",
              "</table>\n",
              "</div>"
            ]
          },
          "metadata": {
            "tags": []
          },
          "execution_count": 23
        }
      ]
    },
    {
      "cell_type": "code",
      "metadata": {
        "trusted": true,
        "id": "T51C1H12GzfP",
        "outputId": "61b3de51-4d07-474f-9d56-ae645b0da2f5"
      },
      "source": [
        "   for dataset in train_test:  #przypisanie pasażerowi odpowiedniej grupy wiekowej od 1 do 6 w zależności od grupy wiekowej\n",
        "    dataset.loc[ dataset['Age'] <= 13.7, 'Age'] = 1\n",
        "    dataset.loc[(dataset['Age'] >= 13.8) & (dataset['Age'] <= 26.9), 'Age'] = 2\n",
        "    dataset.loc[(dataset['Age'] >= 27.0) & (dataset['Age'] <= 40.2), 'Age'] = 3 \n",
        "    dataset.loc[(dataset['Age'] >= 40.03) & (dataset['Age'] <= 53.4), 'Age'] = 4\n",
        "    dataset.loc[(dataset['Age'] >= 53.5) & (dataset['Age'] <= 66.6), 'Age'] = 5\n",
        "    dataset.loc[ dataset['Age'] >= 66.7, 'Age'] = 6\n",
        "train.head()"
      ],
      "execution_count": null,
      "outputs": [
        {
          "output_type": "execute_result",
          "data": {
            "text/plain": [
              "   PassengerId  Survived  Pclass  \\\n",
              "0            1         0       3   \n",
              "1            2         1       1   \n",
              "2            3         1       3   \n",
              "3            4         1       1   \n",
              "4            5         0       3   \n",
              "\n",
              "                                                Name     Sex  Age  SibSp  \\\n",
              "0                            Braund, Mr. Owen Harris    male  2.0      1   \n",
              "1  Cumings, Mrs. John Bradley (Florence Briggs Th...  female  3.0      1   \n",
              "2                             Heikkinen, Miss. Laina  female  2.0      0   \n",
              "3       Futrelle, Mrs. Jacques Heath (Lily May Peel)  female  3.0      1   \n",
              "4                           Allen, Mr. William Henry    male  3.0      0   \n",
              "\n",
              "   Parch     Fare Embarked  Title             Age_1  \n",
              "0      0   7.2500        S    4.0  (13.683, 26.947]  \n",
              "1      0  71.2833        C    2.0   (26.947, 40.21]  \n",
              "2      0   7.9250        S    2.0  (13.683, 26.947]  \n",
              "3      0  53.1000        S    2.0   (26.947, 40.21]  \n",
              "4      0   8.0500        S    4.0   (26.947, 40.21]  "
            ],
            "text/html": [
              "<div>\n",
              "<style scoped>\n",
              "    .dataframe tbody tr th:only-of-type {\n",
              "        vertical-align: middle;\n",
              "    }\n",
              "\n",
              "    .dataframe tbody tr th {\n",
              "        vertical-align: top;\n",
              "    }\n",
              "\n",
              "    .dataframe thead th {\n",
              "        text-align: right;\n",
              "    }\n",
              "</style>\n",
              "<table border=\"1\" class=\"dataframe\">\n",
              "  <thead>\n",
              "    <tr style=\"text-align: right;\">\n",
              "      <th></th>\n",
              "      <th>PassengerId</th>\n",
              "      <th>Survived</th>\n",
              "      <th>Pclass</th>\n",
              "      <th>Name</th>\n",
              "      <th>Sex</th>\n",
              "      <th>Age</th>\n",
              "      <th>SibSp</th>\n",
              "      <th>Parch</th>\n",
              "      <th>Fare</th>\n",
              "      <th>Embarked</th>\n",
              "      <th>Title</th>\n",
              "      <th>Age_1</th>\n",
              "    </tr>\n",
              "  </thead>\n",
              "  <tbody>\n",
              "    <tr>\n",
              "      <th>0</th>\n",
              "      <td>1</td>\n",
              "      <td>0</td>\n",
              "      <td>3</td>\n",
              "      <td>Braund, Mr. Owen Harris</td>\n",
              "      <td>male</td>\n",
              "      <td>2.0</td>\n",
              "      <td>1</td>\n",
              "      <td>0</td>\n",
              "      <td>7.2500</td>\n",
              "      <td>S</td>\n",
              "      <td>4.0</td>\n",
              "      <td>(13.683, 26.947]</td>\n",
              "    </tr>\n",
              "    <tr>\n",
              "      <th>1</th>\n",
              "      <td>2</td>\n",
              "      <td>1</td>\n",
              "      <td>1</td>\n",
              "      <td>Cumings, Mrs. John Bradley (Florence Briggs Th...</td>\n",
              "      <td>female</td>\n",
              "      <td>3.0</td>\n",
              "      <td>1</td>\n",
              "      <td>0</td>\n",
              "      <td>71.2833</td>\n",
              "      <td>C</td>\n",
              "      <td>2.0</td>\n",
              "      <td>(26.947, 40.21]</td>\n",
              "    </tr>\n",
              "    <tr>\n",
              "      <th>2</th>\n",
              "      <td>3</td>\n",
              "      <td>1</td>\n",
              "      <td>3</td>\n",
              "      <td>Heikkinen, Miss. Laina</td>\n",
              "      <td>female</td>\n",
              "      <td>2.0</td>\n",
              "      <td>0</td>\n",
              "      <td>0</td>\n",
              "      <td>7.9250</td>\n",
              "      <td>S</td>\n",
              "      <td>2.0</td>\n",
              "      <td>(13.683, 26.947]</td>\n",
              "    </tr>\n",
              "    <tr>\n",
              "      <th>3</th>\n",
              "      <td>4</td>\n",
              "      <td>1</td>\n",
              "      <td>1</td>\n",
              "      <td>Futrelle, Mrs. Jacques Heath (Lily May Peel)</td>\n",
              "      <td>female</td>\n",
              "      <td>3.0</td>\n",
              "      <td>1</td>\n",
              "      <td>0</td>\n",
              "      <td>53.1000</td>\n",
              "      <td>S</td>\n",
              "      <td>2.0</td>\n",
              "      <td>(26.947, 40.21]</td>\n",
              "    </tr>\n",
              "    <tr>\n",
              "      <th>4</th>\n",
              "      <td>5</td>\n",
              "      <td>0</td>\n",
              "      <td>3</td>\n",
              "      <td>Allen, Mr. William Henry</td>\n",
              "      <td>male</td>\n",
              "      <td>3.0</td>\n",
              "      <td>0</td>\n",
              "      <td>0</td>\n",
              "      <td>8.0500</td>\n",
              "      <td>S</td>\n",
              "      <td>4.0</td>\n",
              "      <td>(26.947, 40.21]</td>\n",
              "    </tr>\n",
              "  </tbody>\n",
              "</table>\n",
              "</div>"
            ]
          },
          "metadata": {
            "tags": []
          },
          "execution_count": 24
        }
      ]
    },
    {
      "cell_type": "code",
      "metadata": {
        "trusted": true,
        "id": "wl-J24vOGzfQ",
        "outputId": "be6f8d2d-d124-4fe6-8ac3-9143952a2f35"
      },
      "source": [
        "train['Fare_1'] = pd.cut(train['Fare'], 4) #stworzenie nowej kolumny Fare_1 i przypisywanie jej odpowiednich przedziałów powstałych z kolumny Fare \n",
        "train[['Fare_1', 'Survived']].groupby(['Fare_1'], as_index=False).mean().sort_values(by='Fare_1', ascending=True) #określenie procentu szans na przeżycie poszczególnych grup cenowych "
      ],
      "execution_count": null,
      "outputs": [
        {
          "output_type": "execute_result",
          "data": {
            "text/plain": [
              "               Fare_1  Survived\n",
              "0   (-0.512, 128.082]  0.368113\n",
              "1  (128.082, 256.165]  0.724138\n",
              "2  (256.165, 384.247]  0.666667\n",
              "3  (384.247, 512.329]  1.000000"
            ],
            "text/html": [
              "<div>\n",
              "<style scoped>\n",
              "    .dataframe tbody tr th:only-of-type {\n",
              "        vertical-align: middle;\n",
              "    }\n",
              "\n",
              "    .dataframe tbody tr th {\n",
              "        vertical-align: top;\n",
              "    }\n",
              "\n",
              "    .dataframe thead th {\n",
              "        text-align: right;\n",
              "    }\n",
              "</style>\n",
              "<table border=\"1\" class=\"dataframe\">\n",
              "  <thead>\n",
              "    <tr style=\"text-align: right;\">\n",
              "      <th></th>\n",
              "      <th>Fare_1</th>\n",
              "      <th>Survived</th>\n",
              "    </tr>\n",
              "  </thead>\n",
              "  <tbody>\n",
              "    <tr>\n",
              "      <th>0</th>\n",
              "      <td>(-0.512, 128.082]</td>\n",
              "      <td>0.368113</td>\n",
              "    </tr>\n",
              "    <tr>\n",
              "      <th>1</th>\n",
              "      <td>(128.082, 256.165]</td>\n",
              "      <td>0.724138</td>\n",
              "    </tr>\n",
              "    <tr>\n",
              "      <th>2</th>\n",
              "      <td>(256.165, 384.247]</td>\n",
              "      <td>0.666667</td>\n",
              "    </tr>\n",
              "    <tr>\n",
              "      <th>3</th>\n",
              "      <td>(384.247, 512.329]</td>\n",
              "      <td>1.000000</td>\n",
              "    </tr>\n",
              "  </tbody>\n",
              "</table>\n",
              "</div>"
            ]
          },
          "metadata": {
            "tags": []
          },
          "execution_count": 25
        }
      ]
    },
    {
      "cell_type": "code",
      "metadata": {
        "trusted": true,
        "id": "XBW-0ovZGzfQ",
        "outputId": "d82d650d-7339-4076-bbb3-4ef8b9d13019"
      },
      "source": [
        "for dataset in train_test:    #przypisanie pasażerowi odpowiedniej grupy wiekowej od 1 do 4 w zależności od opłaty\n",
        "    dataset.loc[ dataset['Fare'] <= 128, 'Fare'] = 1\n",
        "    dataset.loc[(dataset['Fare'] > 128.1) & (dataset['Fare'] <= 256.1), 'Fare'] = 2\n",
        "    dataset.loc[(dataset['Fare'] > 256.2) & (dataset['Fare'] <= 384.1), 'Fare'] = 3\n",
        "    dataset.loc[ dataset['Fare'] > 384.2, 'Fare'] = 4\n",
        "train.head()"
      ],
      "execution_count": null,
      "outputs": [
        {
          "output_type": "execute_result",
          "data": {
            "text/plain": [
              "   PassengerId  Survived  Pclass  \\\n",
              "0            1         0       3   \n",
              "1            2         1       1   \n",
              "2            3         1       3   \n",
              "3            4         1       1   \n",
              "4            5         0       3   \n",
              "\n",
              "                                                Name     Sex  Age  SibSp  \\\n",
              "0                            Braund, Mr. Owen Harris    male  2.0      1   \n",
              "1  Cumings, Mrs. John Bradley (Florence Briggs Th...  female  3.0      1   \n",
              "2                             Heikkinen, Miss. Laina  female  2.0      0   \n",
              "3       Futrelle, Mrs. Jacques Heath (Lily May Peel)  female  3.0      1   \n",
              "4                           Allen, Mr. William Henry    male  3.0      0   \n",
              "\n",
              "   Parch  Fare Embarked  Title             Age_1             Fare_1  \n",
              "0      0   1.0        S    4.0  (13.683, 26.947]  (-0.512, 128.082]  \n",
              "1      0   1.0        C    2.0   (26.947, 40.21]  (-0.512, 128.082]  \n",
              "2      0   1.0        S    2.0  (13.683, 26.947]  (-0.512, 128.082]  \n",
              "3      0   1.0        S    2.0   (26.947, 40.21]  (-0.512, 128.082]  \n",
              "4      0   1.0        S    4.0   (26.947, 40.21]  (-0.512, 128.082]  "
            ],
            "text/html": [
              "<div>\n",
              "<style scoped>\n",
              "    .dataframe tbody tr th:only-of-type {\n",
              "        vertical-align: middle;\n",
              "    }\n",
              "\n",
              "    .dataframe tbody tr th {\n",
              "        vertical-align: top;\n",
              "    }\n",
              "\n",
              "    .dataframe thead th {\n",
              "        text-align: right;\n",
              "    }\n",
              "</style>\n",
              "<table border=\"1\" class=\"dataframe\">\n",
              "  <thead>\n",
              "    <tr style=\"text-align: right;\">\n",
              "      <th></th>\n",
              "      <th>PassengerId</th>\n",
              "      <th>Survived</th>\n",
              "      <th>Pclass</th>\n",
              "      <th>Name</th>\n",
              "      <th>Sex</th>\n",
              "      <th>Age</th>\n",
              "      <th>SibSp</th>\n",
              "      <th>Parch</th>\n",
              "      <th>Fare</th>\n",
              "      <th>Embarked</th>\n",
              "      <th>Title</th>\n",
              "      <th>Age_1</th>\n",
              "      <th>Fare_1</th>\n",
              "    </tr>\n",
              "  </thead>\n",
              "  <tbody>\n",
              "    <tr>\n",
              "      <th>0</th>\n",
              "      <td>1</td>\n",
              "      <td>0</td>\n",
              "      <td>3</td>\n",
              "      <td>Braund, Mr. Owen Harris</td>\n",
              "      <td>male</td>\n",
              "      <td>2.0</td>\n",
              "      <td>1</td>\n",
              "      <td>0</td>\n",
              "      <td>1.0</td>\n",
              "      <td>S</td>\n",
              "      <td>4.0</td>\n",
              "      <td>(13.683, 26.947]</td>\n",
              "      <td>(-0.512, 128.082]</td>\n",
              "    </tr>\n",
              "    <tr>\n",
              "      <th>1</th>\n",
              "      <td>2</td>\n",
              "      <td>1</td>\n",
              "      <td>1</td>\n",
              "      <td>Cumings, Mrs. John Bradley (Florence Briggs Th...</td>\n",
              "      <td>female</td>\n",
              "      <td>3.0</td>\n",
              "      <td>1</td>\n",
              "      <td>0</td>\n",
              "      <td>1.0</td>\n",
              "      <td>C</td>\n",
              "      <td>2.0</td>\n",
              "      <td>(26.947, 40.21]</td>\n",
              "      <td>(-0.512, 128.082]</td>\n",
              "    </tr>\n",
              "    <tr>\n",
              "      <th>2</th>\n",
              "      <td>3</td>\n",
              "      <td>1</td>\n",
              "      <td>3</td>\n",
              "      <td>Heikkinen, Miss. Laina</td>\n",
              "      <td>female</td>\n",
              "      <td>2.0</td>\n",
              "      <td>0</td>\n",
              "      <td>0</td>\n",
              "      <td>1.0</td>\n",
              "      <td>S</td>\n",
              "      <td>2.0</td>\n",
              "      <td>(13.683, 26.947]</td>\n",
              "      <td>(-0.512, 128.082]</td>\n",
              "    </tr>\n",
              "    <tr>\n",
              "      <th>3</th>\n",
              "      <td>4</td>\n",
              "      <td>1</td>\n",
              "      <td>1</td>\n",
              "      <td>Futrelle, Mrs. Jacques Heath (Lily May Peel)</td>\n",
              "      <td>female</td>\n",
              "      <td>3.0</td>\n",
              "      <td>1</td>\n",
              "      <td>0</td>\n",
              "      <td>1.0</td>\n",
              "      <td>S</td>\n",
              "      <td>2.0</td>\n",
              "      <td>(26.947, 40.21]</td>\n",
              "      <td>(-0.512, 128.082]</td>\n",
              "    </tr>\n",
              "    <tr>\n",
              "      <th>4</th>\n",
              "      <td>5</td>\n",
              "      <td>0</td>\n",
              "      <td>3</td>\n",
              "      <td>Allen, Mr. William Henry</td>\n",
              "      <td>male</td>\n",
              "      <td>3.0</td>\n",
              "      <td>0</td>\n",
              "      <td>0</td>\n",
              "      <td>1.0</td>\n",
              "      <td>S</td>\n",
              "      <td>4.0</td>\n",
              "      <td>(26.947, 40.21]</td>\n",
              "      <td>(-0.512, 128.082]</td>\n",
              "    </tr>\n",
              "  </tbody>\n",
              "</table>\n",
              "</div>"
            ]
          },
          "metadata": {
            "tags": []
          },
          "execution_count": 26
        }
      ]
    },
    {
      "cell_type": "code",
      "metadata": {
        "trusted": true,
        "id": "yP4RJxRwGzfR"
      },
      "source": [
        "for dataset in train_test: #przypisanie pasażerom w kolumnie Sex wartości 0 lub 1 w zależności od płci\n",
        "    dataset['Sex'] = dataset['Sex'].map( {'female': 0, 'male': 1} ).astype(int)"
      ],
      "execution_count": null,
      "outputs": []
    },
    {
      "cell_type": "code",
      "metadata": {
        "trusted": true,
        "id": "wc0aT-qHGzfS"
      },
      "source": [
        "for dataset in train_test: #zmaian wartości nieokreślonych w Embarked na S\n",
        "    dataset['Embarked'] = dataset['Embarked'].fillna('S')"
      ],
      "execution_count": null,
      "outputs": []
    },
    {
      "cell_type": "code",
      "metadata": {
        "trusted": true,
        "id": "txXpAD6hGzfT",
        "outputId": "3ba29daa-8a01-4d36-b953-25a948fb31b5"
      },
      "source": [
        "for dataset in train_test: #przydzielenie pasażerom wwartości liczbowych w zależności od wartości parametru Embarked\n",
        "    dataset['Embarked'] = dataset['Embarked'].map( {'C': 3, 'Q': 2, 'S' : 1} ).astype(int)\n",
        "\n",
        "train.head()"
      ],
      "execution_count": null,
      "outputs": [
        {
          "output_type": "execute_result",
          "data": {
            "text/plain": [
              "   PassengerId  Survived  Pclass  \\\n",
              "0            1         0       3   \n",
              "1            2         1       1   \n",
              "2            3         1       3   \n",
              "3            4         1       1   \n",
              "4            5         0       3   \n",
              "\n",
              "                                                Name  Sex  Age  SibSp  Parch  \\\n",
              "0                            Braund, Mr. Owen Harris    1  2.0      1      0   \n",
              "1  Cumings, Mrs. John Bradley (Florence Briggs Th...    0  3.0      1      0   \n",
              "2                             Heikkinen, Miss. Laina    0  2.0      0      0   \n",
              "3       Futrelle, Mrs. Jacques Heath (Lily May Peel)    0  3.0      1      0   \n",
              "4                           Allen, Mr. William Henry    1  3.0      0      0   \n",
              "\n",
              "   Fare  Embarked  Title             Age_1             Fare_1  \n",
              "0   1.0         1    4.0  (13.683, 26.947]  (-0.512, 128.082]  \n",
              "1   1.0         3    2.0   (26.947, 40.21]  (-0.512, 128.082]  \n",
              "2   1.0         1    2.0  (13.683, 26.947]  (-0.512, 128.082]  \n",
              "3   1.0         1    2.0   (26.947, 40.21]  (-0.512, 128.082]  \n",
              "4   1.0         1    4.0   (26.947, 40.21]  (-0.512, 128.082]  "
            ],
            "text/html": [
              "<div>\n",
              "<style scoped>\n",
              "    .dataframe tbody tr th:only-of-type {\n",
              "        vertical-align: middle;\n",
              "    }\n",
              "\n",
              "    .dataframe tbody tr th {\n",
              "        vertical-align: top;\n",
              "    }\n",
              "\n",
              "    .dataframe thead th {\n",
              "        text-align: right;\n",
              "    }\n",
              "</style>\n",
              "<table border=\"1\" class=\"dataframe\">\n",
              "  <thead>\n",
              "    <tr style=\"text-align: right;\">\n",
              "      <th></th>\n",
              "      <th>PassengerId</th>\n",
              "      <th>Survived</th>\n",
              "      <th>Pclass</th>\n",
              "      <th>Name</th>\n",
              "      <th>Sex</th>\n",
              "      <th>Age</th>\n",
              "      <th>SibSp</th>\n",
              "      <th>Parch</th>\n",
              "      <th>Fare</th>\n",
              "      <th>Embarked</th>\n",
              "      <th>Title</th>\n",
              "      <th>Age_1</th>\n",
              "      <th>Fare_1</th>\n",
              "    </tr>\n",
              "  </thead>\n",
              "  <tbody>\n",
              "    <tr>\n",
              "      <th>0</th>\n",
              "      <td>1</td>\n",
              "      <td>0</td>\n",
              "      <td>3</td>\n",
              "      <td>Braund, Mr. Owen Harris</td>\n",
              "      <td>1</td>\n",
              "      <td>2.0</td>\n",
              "      <td>1</td>\n",
              "      <td>0</td>\n",
              "      <td>1.0</td>\n",
              "      <td>1</td>\n",
              "      <td>4.0</td>\n",
              "      <td>(13.683, 26.947]</td>\n",
              "      <td>(-0.512, 128.082]</td>\n",
              "    </tr>\n",
              "    <tr>\n",
              "      <th>1</th>\n",
              "      <td>2</td>\n",
              "      <td>1</td>\n",
              "      <td>1</td>\n",
              "      <td>Cumings, Mrs. John Bradley (Florence Briggs Th...</td>\n",
              "      <td>0</td>\n",
              "      <td>3.0</td>\n",
              "      <td>1</td>\n",
              "      <td>0</td>\n",
              "      <td>1.0</td>\n",
              "      <td>3</td>\n",
              "      <td>2.0</td>\n",
              "      <td>(26.947, 40.21]</td>\n",
              "      <td>(-0.512, 128.082]</td>\n",
              "    </tr>\n",
              "    <tr>\n",
              "      <th>2</th>\n",
              "      <td>3</td>\n",
              "      <td>1</td>\n",
              "      <td>3</td>\n",
              "      <td>Heikkinen, Miss. Laina</td>\n",
              "      <td>0</td>\n",
              "      <td>2.0</td>\n",
              "      <td>0</td>\n",
              "      <td>0</td>\n",
              "      <td>1.0</td>\n",
              "      <td>1</td>\n",
              "      <td>2.0</td>\n",
              "      <td>(13.683, 26.947]</td>\n",
              "      <td>(-0.512, 128.082]</td>\n",
              "    </tr>\n",
              "    <tr>\n",
              "      <th>3</th>\n",
              "      <td>4</td>\n",
              "      <td>1</td>\n",
              "      <td>1</td>\n",
              "      <td>Futrelle, Mrs. Jacques Heath (Lily May Peel)</td>\n",
              "      <td>0</td>\n",
              "      <td>3.0</td>\n",
              "      <td>1</td>\n",
              "      <td>0</td>\n",
              "      <td>1.0</td>\n",
              "      <td>1</td>\n",
              "      <td>2.0</td>\n",
              "      <td>(26.947, 40.21]</td>\n",
              "      <td>(-0.512, 128.082]</td>\n",
              "    </tr>\n",
              "    <tr>\n",
              "      <th>4</th>\n",
              "      <td>5</td>\n",
              "      <td>0</td>\n",
              "      <td>3</td>\n",
              "      <td>Allen, Mr. William Henry</td>\n",
              "      <td>1</td>\n",
              "      <td>3.0</td>\n",
              "      <td>0</td>\n",
              "      <td>0</td>\n",
              "      <td>1.0</td>\n",
              "      <td>1</td>\n",
              "      <td>4.0</td>\n",
              "      <td>(26.947, 40.21]</td>\n",
              "      <td>(-0.512, 128.082]</td>\n",
              "    </tr>\n",
              "  </tbody>\n",
              "</table>\n",
              "</div>"
            ]
          },
          "metadata": {
            "tags": []
          },
          "execution_count": 29
        }
      ]
    },
    {
      "cell_type": "code",
      "metadata": {
        "trusted": true,
        "id": "ONasiG-ZGzfT"
      },
      "source": [
        "for dataset in train_test: #stworzenie nowej kolumny określającej liczbę członków rodziny pasażera\n",
        "    dataset['Family'] = dataset['SibSp'] +  dataset['Parch']"
      ],
      "execution_count": null,
      "outputs": []
    },
    {
      "cell_type": "code",
      "metadata": {
        "trusted": true,
        "id": "aZC9ROjDGzfU",
        "outputId": "798a08c4-884f-4084-86e3-35c59bc6aa6c"
      },
      "source": [
        "train = train.drop(['Name', 'SibSp', 'Age_1', 'Fare_1', 'Parch'], axis=1) #usunięcie niepotrzebnych już kolumn ze zmiennej train\n",
        "train.head()"
      ],
      "execution_count": null,
      "outputs": [
        {
          "output_type": "execute_result",
          "data": {
            "text/plain": [
              "   PassengerId  Survived  Pclass  Sex  Age  Fare  Embarked  Title  Family\n",
              "0            1         0       3    1  2.0   1.0         1    4.0       1\n",
              "1            2         1       1    0  3.0   1.0         3    2.0       1\n",
              "2            3         1       3    0  2.0   1.0         1    2.0       0\n",
              "3            4         1       1    0  3.0   1.0         1    2.0       1\n",
              "4            5         0       3    1  3.0   1.0         1    4.0       0"
            ],
            "text/html": [
              "<div>\n",
              "<style scoped>\n",
              "    .dataframe tbody tr th:only-of-type {\n",
              "        vertical-align: middle;\n",
              "    }\n",
              "\n",
              "    .dataframe tbody tr th {\n",
              "        vertical-align: top;\n",
              "    }\n",
              "\n",
              "    .dataframe thead th {\n",
              "        text-align: right;\n",
              "    }\n",
              "</style>\n",
              "<table border=\"1\" class=\"dataframe\">\n",
              "  <thead>\n",
              "    <tr style=\"text-align: right;\">\n",
              "      <th></th>\n",
              "      <th>PassengerId</th>\n",
              "      <th>Survived</th>\n",
              "      <th>Pclass</th>\n",
              "      <th>Sex</th>\n",
              "      <th>Age</th>\n",
              "      <th>Fare</th>\n",
              "      <th>Embarked</th>\n",
              "      <th>Title</th>\n",
              "      <th>Family</th>\n",
              "    </tr>\n",
              "  </thead>\n",
              "  <tbody>\n",
              "    <tr>\n",
              "      <th>0</th>\n",
              "      <td>1</td>\n",
              "      <td>0</td>\n",
              "      <td>3</td>\n",
              "      <td>1</td>\n",
              "      <td>2.0</td>\n",
              "      <td>1.0</td>\n",
              "      <td>1</td>\n",
              "      <td>4.0</td>\n",
              "      <td>1</td>\n",
              "    </tr>\n",
              "    <tr>\n",
              "      <th>1</th>\n",
              "      <td>2</td>\n",
              "      <td>1</td>\n",
              "      <td>1</td>\n",
              "      <td>0</td>\n",
              "      <td>3.0</td>\n",
              "      <td>1.0</td>\n",
              "      <td>3</td>\n",
              "      <td>2.0</td>\n",
              "      <td>1</td>\n",
              "    </tr>\n",
              "    <tr>\n",
              "      <th>2</th>\n",
              "      <td>3</td>\n",
              "      <td>1</td>\n",
              "      <td>3</td>\n",
              "      <td>0</td>\n",
              "      <td>2.0</td>\n",
              "      <td>1.0</td>\n",
              "      <td>1</td>\n",
              "      <td>2.0</td>\n",
              "      <td>0</td>\n",
              "    </tr>\n",
              "    <tr>\n",
              "      <th>3</th>\n",
              "      <td>4</td>\n",
              "      <td>1</td>\n",
              "      <td>1</td>\n",
              "      <td>0</td>\n",
              "      <td>3.0</td>\n",
              "      <td>1.0</td>\n",
              "      <td>1</td>\n",
              "      <td>2.0</td>\n",
              "      <td>1</td>\n",
              "    </tr>\n",
              "    <tr>\n",
              "      <th>4</th>\n",
              "      <td>5</td>\n",
              "      <td>0</td>\n",
              "      <td>3</td>\n",
              "      <td>1</td>\n",
              "      <td>3.0</td>\n",
              "      <td>1.0</td>\n",
              "      <td>1</td>\n",
              "      <td>4.0</td>\n",
              "      <td>0</td>\n",
              "    </tr>\n",
              "  </tbody>\n",
              "</table>\n",
              "</div>"
            ]
          },
          "metadata": {
            "tags": []
          },
          "execution_count": 31
        }
      ]
    },
    {
      "cell_type": "code",
      "metadata": {
        "trusted": true,
        "id": "H1nGlf4IGzfU",
        "outputId": "81c07227-bae4-4778-ad85-a5bd07616922"
      },
      "source": [
        "test = test.drop(['Name', 'SibSp', 'Parch'], axis=1) #usunięcie niepotrzebnych już kolumn ze zmiennej test\n",
        "test.head()"
      ],
      "execution_count": null,
      "outputs": [
        {
          "output_type": "execute_result",
          "data": {
            "text/plain": [
              "   PassengerId  Pclass  Sex  Age  Fare  Embarked  Title  Family\n",
              "0          892       3    1  3.0   1.0         2    4.0       0\n",
              "1          893       3    0  4.0   1.0         1    2.0       1\n",
              "2          894       2    1  5.0   1.0         2    4.0       0\n",
              "3          895       3    1  3.0   1.0         1    4.0       0\n",
              "4          896       3    0  2.0   1.0         1    2.0       2"
            ],
            "text/html": [
              "<div>\n",
              "<style scoped>\n",
              "    .dataframe tbody tr th:only-of-type {\n",
              "        vertical-align: middle;\n",
              "    }\n",
              "\n",
              "    .dataframe tbody tr th {\n",
              "        vertical-align: top;\n",
              "    }\n",
              "\n",
              "    .dataframe thead th {\n",
              "        text-align: right;\n",
              "    }\n",
              "</style>\n",
              "<table border=\"1\" class=\"dataframe\">\n",
              "  <thead>\n",
              "    <tr style=\"text-align: right;\">\n",
              "      <th></th>\n",
              "      <th>PassengerId</th>\n",
              "      <th>Pclass</th>\n",
              "      <th>Sex</th>\n",
              "      <th>Age</th>\n",
              "      <th>Fare</th>\n",
              "      <th>Embarked</th>\n",
              "      <th>Title</th>\n",
              "      <th>Family</th>\n",
              "    </tr>\n",
              "  </thead>\n",
              "  <tbody>\n",
              "    <tr>\n",
              "      <th>0</th>\n",
              "      <td>892</td>\n",
              "      <td>3</td>\n",
              "      <td>1</td>\n",
              "      <td>3.0</td>\n",
              "      <td>1.0</td>\n",
              "      <td>2</td>\n",
              "      <td>4.0</td>\n",
              "      <td>0</td>\n",
              "    </tr>\n",
              "    <tr>\n",
              "      <th>1</th>\n",
              "      <td>893</td>\n",
              "      <td>3</td>\n",
              "      <td>0</td>\n",
              "      <td>4.0</td>\n",
              "      <td>1.0</td>\n",
              "      <td>1</td>\n",
              "      <td>2.0</td>\n",
              "      <td>1</td>\n",
              "    </tr>\n",
              "    <tr>\n",
              "      <th>2</th>\n",
              "      <td>894</td>\n",
              "      <td>2</td>\n",
              "      <td>1</td>\n",
              "      <td>5.0</td>\n",
              "      <td>1.0</td>\n",
              "      <td>2</td>\n",
              "      <td>4.0</td>\n",
              "      <td>0</td>\n",
              "    </tr>\n",
              "    <tr>\n",
              "      <th>3</th>\n",
              "      <td>895</td>\n",
              "      <td>3</td>\n",
              "      <td>1</td>\n",
              "      <td>3.0</td>\n",
              "      <td>1.0</td>\n",
              "      <td>1</td>\n",
              "      <td>4.0</td>\n",
              "      <td>0</td>\n",
              "    </tr>\n",
              "    <tr>\n",
              "      <th>4</th>\n",
              "      <td>896</td>\n",
              "      <td>3</td>\n",
              "      <td>0</td>\n",
              "      <td>2.0</td>\n",
              "      <td>1.0</td>\n",
              "      <td>1</td>\n",
              "      <td>2.0</td>\n",
              "      <td>2</td>\n",
              "    </tr>\n",
              "  </tbody>\n",
              "</table>\n",
              "</div>"
            ]
          },
          "metadata": {
            "tags": []
          },
          "execution_count": 32
        }
      ]
    },
    {
      "cell_type": "markdown",
      "metadata": {
        "id": "A5uhfPt-GzfU"
      },
      "source": [
        "Osiągnięte zostały końcowe dane, które będą użyte do uczenia maszynowego. Parametrami użytymi do uczenia maszynowego będą: Pclass, Sex, Age, Fare, Embarked, Title oraz Family"
      ]
    },
    {
      "cell_type": "code",
      "metadata": {
        "trusted": true,
        "id": "l3n87h0TGzfV"
      },
      "source": [
        "train.isnull().sum() #Sprawdzenie czy są wartości nieokreślone w poszczególnych kolumnach"
      ],
      "execution_count": null,
      "outputs": []
    },
    {
      "cell_type": "code",
      "metadata": {
        "trusted": true,
        "id": "_6nWuHbqGzfV"
      },
      "source": [
        "train[\"Title\"] = train[\"Title\"].fillna(3)"
      ],
      "execution_count": null,
      "outputs": []
    },
    {
      "cell_type": "code",
      "metadata": {
        "trusted": true,
        "id": "897ueSh0GzfV"
      },
      "source": [
        "test.isnull().sum() #Sprawdzenie czy są wartości nieokreślone w poszczególnych kolumnach"
      ],
      "execution_count": null,
      "outputs": []
    },
    {
      "cell_type": "code",
      "metadata": {
        "trusted": true,
        "id": "50Tg1DwjGzfV"
      },
      "source": [
        "test[\"Title\"] = test[\"Title\"].fillna(3)"
      ],
      "execution_count": null,
      "outputs": []
    },
    {
      "cell_type": "markdown",
      "metadata": {
        "id": "Baf0-W-7GzfW"
      },
      "source": [
        "Zarówno w tablicy train jak i test są niekreślone wartości w kolumnie title, jednak jest ich niewiele i zostały do nich przypisane wartości 3."
      ]
    },
    {
      "cell_type": "code",
      "metadata": {
        "trusted": true,
        "id": "1qQVACsQGzfW"
      },
      "source": [
        "from sklearn.ensemble import RandomForestClassifier\n",
        "\n",
        "y = train_data[\"Survived\"]\n",
        "\n",
        "features = [\"Pclass\",\"Sex\", \"Family\", \"Embarked\", \"Fare\", \"Age\", \"Title\"]\n",
        "X = pd.get_dummies(train[features])\n",
        "X_test = pd.get_dummies(test[features])\n",
        "\n",
        "model = RandomForestClassifier(n_estimators=50, max_depth=7, random_state=1)\n",
        "model.fit(X, y)\n",
        "predictions = model.predict(X_test)\n",
        "\n",
        "output = pd.DataFrame({'PassengerId': test.PassengerId, 'Survived': predictions})\n",
        "output.to_csv('my_submission.csv', index=False)\n",
        "print(\"Your submission was successfully saved!\")"
      ],
      "execution_count": null,
      "outputs": []
    },
    {
      "cell_type": "markdown",
      "metadata": {
        "id": "clzF6rrTGzfW"
      },
      "source": [
        "Do nauki maszynowej została użyta metoda losowego lasu, który składa się z wielu drzew decyzyjnych. Jest to metoda, która tworzy drzewa decyzyjne na losowo wybranych próbkach danych, pobiera prognozę z każdego drzewa i wybiera najlepsze rozwiązanie w drodze głosowania. W przyjętym modelu jest 50 drzew oraz maksymalna głębokość drzewwa wynosi 7. Jako dane uczące zostały wybrane ze zmiennej tablicowej train. Na ich podstawie określane jest, którzy z pasażerów zawartych w tablicy test przetrwają katastrofę. "
      ]
    },
    {
      "cell_type": "markdown",
      "metadata": {
        "id": "hwu05PkoGzfW"
      },
      "source": [
        "Tak przeprowadzone uczenie dało wynik 0.78947, co jest wynikiem lepszym niż dla sposobu, gdzie przyjmowano, że przeżyły tylko kobiety, a także lepszy niż dla analizy przeprowadzonej w samouczku. Lepszy wynik przypuszczalnie mógłby być osiągnięty w przypadku zastąpienia nieokreślonych wartości wartościami średnimi z wartości kolumn, lub losowo wybranymi z wyznaczonych przedziałów. Lepszy wynik może być także osiągnięty przez zastosowanie innego podziału jeżeli chodzi na przykład o wiek lub opłatę."
      ]
    },
    {
      "cell_type": "markdown",
      "metadata": {
        "id": "WiFs9zJTG6l2"
      },
      "source": [
        "![3.png](data:image/png;base64,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)"
      ]
    }
  ]
}